{
 "cells": [
  {
   "cell_type": "markdown",
   "id": "3dabb820",
   "metadata": {},
   "source": [
    "## Importing Libraries"
   ]
  },
  {
   "cell_type": "code",
   "execution_count": 1,
   "id": "a33b6e98",
   "metadata": {},
   "outputs": [],
   "source": [
    "import pandas as pd\n",
    "import numpy as np\n",
    "import matplotlib.pyplot as plt\n",
    "import seaborn as sns\n",
    "import datetime as datetime\n",
    "import warnings\n",
    "warnings.filterwarnings('ignore')"
   ]
  },
  {
   "cell_type": "markdown",
   "id": "b0e9a167",
   "metadata": {},
   "source": [
    "## Data Analysis"
   ]
  },
  {
   "cell_type": "code",
   "execution_count": 2,
   "id": "48c3f7d9",
   "metadata": {},
   "outputs": [],
   "source": [
    "train=pd.read_csv(\"/Users/rohithsiddi/Desktop/Participants_Dataset/train.csv\")\n",
    "test=pd.read_csv(\"/Users/rohithsiddi/Desktop/Participants_Dataset/test.csv\")"
   ]
  },
  {
   "cell_type": "code",
   "execution_count": 3,
   "id": "e74f26e3",
   "metadata": {},
   "outputs": [
    {
     "data": {
      "text/html": [
       "<div>\n",
       "<style scoped>\n",
       "    .dataframe tbody tr th:only-of-type {\n",
       "        vertical-align: middle;\n",
       "    }\n",
       "\n",
       "    .dataframe tbody tr th {\n",
       "        vertical-align: top;\n",
       "    }\n",
       "\n",
       "    .dataframe thead th {\n",
       "        text-align: right;\n",
       "    }\n",
       "</style>\n",
       "<table border=\"1\" class=\"dataframe\">\n",
       "  <thead>\n",
       "    <tr style=\"text-align: right;\">\n",
       "      <th></th>\n",
       "      <th>trip_distance</th>\n",
       "      <th>rate_code</th>\n",
       "      <th>store_and_fwd_flag</th>\n",
       "      <th>payment_type</th>\n",
       "      <th>fare_amount</th>\n",
       "      <th>extra</th>\n",
       "      <th>mta_tax</th>\n",
       "      <th>tip_amount</th>\n",
       "      <th>tolls_amount</th>\n",
       "      <th>imp_surcharge</th>\n",
       "      <th>total_amount</th>\n",
       "      <th>pickup_location_id</th>\n",
       "      <th>dropoff_location_id</th>\n",
       "      <th>year</th>\n",
       "      <th>month</th>\n",
       "      <th>day</th>\n",
       "      <th>day_of_week</th>\n",
       "      <th>hour_of_day</th>\n",
       "      <th>trip_duration</th>\n",
       "      <th>calculated_total_amount</th>\n",
       "    </tr>\n",
       "  </thead>\n",
       "  <tbody>\n",
       "    <tr>\n",
       "      <th>0</th>\n",
       "      <td>9.01</td>\n",
       "      <td>1</td>\n",
       "      <td>N</td>\n",
       "      <td>1</td>\n",
       "      <td>26.0</td>\n",
       "      <td>0.0</td>\n",
       "      <td>0.5</td>\n",
       "      <td>8.14</td>\n",
       "      <td>5.76</td>\n",
       "      <td>0.3</td>\n",
       "      <td>40.70</td>\n",
       "      <td>262</td>\n",
       "      <td>138</td>\n",
       "      <td>2018</td>\n",
       "      <td>3</td>\n",
       "      <td>7</td>\n",
       "      <td>2</td>\n",
       "      <td>6</td>\n",
       "      <td>2131.0</td>\n",
       "      <td>24.30</td>\n",
       "    </tr>\n",
       "    <tr>\n",
       "      <th>1</th>\n",
       "      <td>0.20</td>\n",
       "      <td>1</td>\n",
       "      <td>N</td>\n",
       "      <td>1</td>\n",
       "      <td>3.0</td>\n",
       "      <td>0.0</td>\n",
       "      <td>0.5</td>\n",
       "      <td>0.75</td>\n",
       "      <td>0.00</td>\n",
       "      <td>0.3</td>\n",
       "      <td>4.55</td>\n",
       "      <td>263</td>\n",
       "      <td>236</td>\n",
       "      <td>2018</td>\n",
       "      <td>2</td>\n",
       "      <td>25</td>\n",
       "      <td>6</td>\n",
       "      <td>10</td>\n",
       "      <td>2377.0</td>\n",
       "      <td>37.40</td>\n",
       "    </tr>\n",
       "    <tr>\n",
       "      <th>2</th>\n",
       "      <td>9.65</td>\n",
       "      <td>1</td>\n",
       "      <td>N</td>\n",
       "      <td>1</td>\n",
       "      <td>41.5</td>\n",
       "      <td>0.0</td>\n",
       "      <td>0.5</td>\n",
       "      <td>9.61</td>\n",
       "      <td>5.76</td>\n",
       "      <td>0.3</td>\n",
       "      <td>57.67</td>\n",
       "      <td>138</td>\n",
       "      <td>230</td>\n",
       "      <td>2018</td>\n",
       "      <td>1</td>\n",
       "      <td>29</td>\n",
       "      <td>0</td>\n",
       "      <td>8</td>\n",
       "      <td>1286.0</td>\n",
       "      <td>30.36</td>\n",
       "    </tr>\n",
       "    <tr>\n",
       "      <th>3</th>\n",
       "      <td>9.50</td>\n",
       "      <td>1</td>\n",
       "      <td>N</td>\n",
       "      <td>1</td>\n",
       "      <td>30.0</td>\n",
       "      <td>0.5</td>\n",
       "      <td>0.5</td>\n",
       "      <td>9.25</td>\n",
       "      <td>5.76</td>\n",
       "      <td>0.3</td>\n",
       "      <td>46.31</td>\n",
       "      <td>186</td>\n",
       "      <td>138</td>\n",
       "      <td>2018</td>\n",
       "      <td>9</td>\n",
       "      <td>25</td>\n",
       "      <td>1</td>\n",
       "      <td>20</td>\n",
       "      <td>2586.0</td>\n",
       "      <td>4.30</td>\n",
       "    </tr>\n",
       "    <tr>\n",
       "      <th>4</th>\n",
       "      <td>5.80</td>\n",
       "      <td>1</td>\n",
       "      <td>N</td>\n",
       "      <td>1</td>\n",
       "      <td>21.5</td>\n",
       "      <td>0.5</td>\n",
       "      <td>0.5</td>\n",
       "      <td>4.56</td>\n",
       "      <td>0.00</td>\n",
       "      <td>0.3</td>\n",
       "      <td>27.36</td>\n",
       "      <td>162</td>\n",
       "      <td>87</td>\n",
       "      <td>2018</td>\n",
       "      <td>8</td>\n",
       "      <td>20</td>\n",
       "      <td>0</td>\n",
       "      <td>21</td>\n",
       "      <td>1575.0</td>\n",
       "      <td>23.80</td>\n",
       "    </tr>\n",
       "  </tbody>\n",
       "</table>\n",
       "</div>"
      ],
      "text/plain": [
       "   trip_distance  rate_code store_and_fwd_flag  payment_type  fare_amount  \\\n",
       "0           9.01          1                  N             1         26.0   \n",
       "1           0.20          1                  N             1          3.0   \n",
       "2           9.65          1                  N             1         41.5   \n",
       "3           9.50          1                  N             1         30.0   \n",
       "4           5.80          1                  N             1         21.5   \n",
       "\n",
       "   extra  mta_tax  tip_amount  tolls_amount  imp_surcharge  total_amount  \\\n",
       "0    0.0      0.5        8.14          5.76            0.3         40.70   \n",
       "1    0.0      0.5        0.75          0.00            0.3          4.55   \n",
       "2    0.0      0.5        9.61          5.76            0.3         57.67   \n",
       "3    0.5      0.5        9.25          5.76            0.3         46.31   \n",
       "4    0.5      0.5        4.56          0.00            0.3         27.36   \n",
       "\n",
       "   pickup_location_id  dropoff_location_id  year  month  day  day_of_week  \\\n",
       "0                 262                  138  2018      3    7            2   \n",
       "1                 263                  236  2018      2   25            6   \n",
       "2                 138                  230  2018      1   29            0   \n",
       "3                 186                  138  2018      9   25            1   \n",
       "4                 162                   87  2018      8   20            0   \n",
       "\n",
       "   hour_of_day  trip_duration  calculated_total_amount  \n",
       "0            6         2131.0                    24.30  \n",
       "1           10         2377.0                    37.40  \n",
       "2            8         1286.0                    30.36  \n",
       "3           20         2586.0                     4.30  \n",
       "4           21         1575.0                    23.80  "
      ]
     },
     "execution_count": 3,
     "metadata": {},
     "output_type": "execute_result"
    }
   ],
   "source": [
    "train.head()"
   ]
  },
  {
   "cell_type": "code",
   "execution_count": 4,
   "id": "d935960b",
   "metadata": {},
   "outputs": [],
   "source": [
    "train['weekend'] = train['day_of_week'].apply(lambda x: 1 if x in [5,6] else 0)\n",
    "test['weekend'] = test['day_of_week'].apply(lambda x: 1 if x in [5,6] else 0)"
   ]
  },
  {
   "cell_type": "code",
   "execution_count": 5,
   "id": "968fc9d8",
   "metadata": {},
   "outputs": [],
   "source": [
    "train.drop([\"pickup_location_id\",\"dropoff_location_id\",\"year\"],axis=1,inplace=True)\n",
    "test.drop([\"pickup_location_id\",\"dropoff_location_id\",\"year\"],axis=1,inplace=True)"
   ]
  },
  {
   "cell_type": "code",
   "execution_count": 6,
   "id": "ae68133b",
   "metadata": {
    "scrolled": true
   },
   "outputs": [
    {
     "data": {
      "text/plain": [
       "(35000, 18)"
      ]
     },
     "execution_count": 6,
     "metadata": {},
     "output_type": "execute_result"
    }
   ],
   "source": [
    "train.shape"
   ]
  },
  {
   "cell_type": "code",
   "execution_count": 7,
   "id": "f06d56a5",
   "metadata": {},
   "outputs": [
    {
     "data": {
      "text/plain": [
       "trip_distance              0\n",
       "rate_code                  0\n",
       "store_and_fwd_flag         0\n",
       "payment_type               0\n",
       "fare_amount                0\n",
       "extra                      0\n",
       "mta_tax                    0\n",
       "tip_amount                 0\n",
       "tolls_amount               0\n",
       "imp_surcharge              0\n",
       "total_amount               0\n",
       "month                      0\n",
       "day                        0\n",
       "day_of_week                0\n",
       "hour_of_day                0\n",
       "trip_duration              0\n",
       "calculated_total_amount    0\n",
       "weekend                    0\n",
       "dtype: int64"
      ]
     },
     "execution_count": 7,
     "metadata": {},
     "output_type": "execute_result"
    }
   ],
   "source": [
    "train.isnull().sum()"
   ]
  },
  {
   "cell_type": "code",
   "execution_count": 8,
   "id": "6a6ef15d",
   "metadata": {},
   "outputs": [
    {
     "data": {
      "text/plain": [
       "N    34823\n",
       "Y      177\n",
       "Name: store_and_fwd_flag, dtype: int64"
      ]
     },
     "execution_count": 8,
     "metadata": {},
     "output_type": "execute_result"
    }
   ],
   "source": [
    "train[\"store_and_fwd_flag\"].value_counts()"
   ]
  },
  {
   "cell_type": "code",
   "execution_count": 9,
   "id": "f488d32b",
   "metadata": {},
   "outputs": [],
   "source": [
    "train=pd.get_dummies(train,columns=[\"store_and_fwd_flag\",\"mta_tax\",\"imp_surcharge\"],drop_first=True)\n",
    "test=pd.get_dummies(test,columns=[\"store_and_fwd_flag\",\"mta_tax\",\"imp_surcharge\"],drop_first=True)"
   ]
  },
  {
   "cell_type": "code",
   "execution_count": 10,
   "id": "cf347866",
   "metadata": {},
   "outputs": [],
   "source": [
    "train[\"rate_code\"]=train[\"rate_code\"].apply(str)\n",
    "train[\"payment_type\"]=train[\"payment_type\"].apply(str)\n",
    "test[\"rate_code\"]=test[\"rate_code\"].apply(str)\n",
    "test[\"payment_type\"]=test[\"payment_type\"].apply(str)"
   ]
  },
  {
   "cell_type": "code",
   "execution_count": 11,
   "id": "7cfd39bc",
   "metadata": {},
   "outputs": [],
   "source": [
    "train=pd.get_dummies(train,columns=[\"rate_code\",\"payment_type\"],drop_first=True)\n",
    "test=pd.get_dummies(test,columns=[\"rate_code\",\"payment_type\"],drop_first=True)"
   ]
  },
  {
   "cell_type": "code",
   "execution_count": 12,
   "id": "13915ef4",
   "metadata": {},
   "outputs": [
    {
     "data": {
      "text/plain": [
       "payment_type_2            -0.038343\n",
       "rate_code_5               -0.013888\n",
       "payment_type_3            -0.010936\n",
       "imp_surcharge_0.3         -0.008944\n",
       "payment_type_4            -0.007232\n",
       "store_and_fwd_flag_Y      -0.005429\n",
       "fare_amount               -0.004883\n",
       "rate_code_3               -0.002708\n",
       "day                       -0.001215\n",
       "day_of_week                0.000730\n",
       "tolls_amount               0.000835\n",
       "month                      0.000863\n",
       "hour_of_day                0.001093\n",
       "trip_distance              0.001392\n",
       "total_amount               0.001413\n",
       "rate_code_4                0.001421\n",
       "mta_tax_0.5                0.001764\n",
       "extra                      0.004083\n",
       "trip_duration              0.006518\n",
       "weekend                    0.006671\n",
       "tip_amount                 0.021426\n",
       "rate_code_2                0.022800\n",
       "calculated_total_amount    1.000000\n",
       "Name: calculated_total_amount, dtype: float64"
      ]
     },
     "execution_count": 12,
     "metadata": {},
     "output_type": "execute_result"
    }
   ],
   "source": [
    "train.corr()[\"calculated_total_amount\"].sort_values()"
   ]
  },
  {
   "cell_type": "code",
   "execution_count": 13,
   "id": "7b8db4c5",
   "metadata": {},
   "outputs": [],
   "source": [
    "#train.info()"
   ]
  },
  {
   "cell_type": "code",
   "execution_count": 14,
   "id": "6b66ed5c",
   "metadata": {},
   "outputs": [
    {
     "data": {
      "text/plain": [
       "array([ 6, 10,  8, 20, 21,  7,  2,  3, 18, 12, 16, 15, 11, 17, 19, 22, 14,\n",
       "        0,  4,  5,  9, 13, 23,  1])"
      ]
     },
     "execution_count": 14,
     "metadata": {},
     "output_type": "execute_result"
    }
   ],
   "source": [
    "train[\"hour_of_day\"].unique()"
   ]
  },
  {
   "cell_type": "code",
   "execution_count": 15,
   "id": "3f8f516e",
   "metadata": {},
   "outputs": [],
   "source": [
    "train.loc[(train['hour_of_day'] >= 0) & (train[\"hour_of_day\"] <= 6), 'hour_of_day'] = 1\n",
    "train.loc[(train['hour_of_day'] > 6) & (train['hour_of_day'] <= 16), 'hour_of_day'] = 2\n",
    "train.loc[(train['hour_of_day'] > 16) & (train['hour_of_day'] <= 24), 'hour_of_day'] = 3"
   ]
  },
  {
   "cell_type": "code",
   "execution_count": 16,
   "id": "92807113",
   "metadata": {},
   "outputs": [],
   "source": [
    "test.loc[(test['hour_of_day'] >= 0) & (test[\"hour_of_day\"] <= 6), 'hour_of_day'] = 1\n",
    "test.loc[(test['hour_of_day'] > 6) & (test['hour_of_day'] <= 16), 'hour_of_day'] = 2\n",
    "test.loc[(test['hour_of_day'] > 16) & (test['hour_of_day'] <= 24), 'hour_of_day'] = 3"
   ]
  },
  {
   "cell_type": "code",
   "execution_count": 17,
   "id": "03593959",
   "metadata": {},
   "outputs": [
    {
     "data": {
      "text/plain": [
       "array([1, 2, 3])"
      ]
     },
     "execution_count": 17,
     "metadata": {},
     "output_type": "execute_result"
    }
   ],
   "source": [
    "train[\"hour_of_day\"].unique()"
   ]
  },
  {
   "cell_type": "code",
   "execution_count": 18,
   "id": "be78bfb9",
   "metadata": {},
   "outputs": [],
   "source": [
    "train=pd.get_dummies(train,columns=[\"hour_of_day\"],drop_first=True)\n",
    "test=pd.get_dummies(test,columns=[\"hour_of_day\"],drop_first=True)"
   ]
  },
  {
   "cell_type": "markdown",
   "id": "fdb6cb84",
   "metadata": {},
   "source": [
    "### Splitting data "
   ]
  },
  {
   "cell_type": "code",
   "execution_count": 19,
   "id": "52268414",
   "metadata": {},
   "outputs": [],
   "source": [
    "X=train.drop(\"calculated_total_amount\",axis=1)\n",
    "y=train[\"calculated_total_amount\"]"
   ]
  },
  {
   "cell_type": "code",
   "execution_count": 20,
   "id": "2e577bbc",
   "metadata": {},
   "outputs": [],
   "source": [
    "from sklearn.model_selection import train_test_split"
   ]
  },
  {
   "cell_type": "code",
   "execution_count": 21,
   "id": "abbec0e2",
   "metadata": {},
   "outputs": [],
   "source": [
    "train_X,test_X,train_y,test_y=train_test_split(X,y,test_size=0.1)"
   ]
  },
  {
   "cell_type": "markdown",
   "id": "b79596d0",
   "metadata": {},
   "source": [
    "### Feature Scaling"
   ]
  },
  {
   "cell_type": "code",
   "execution_count": 22,
   "id": "37441299",
   "metadata": {},
   "outputs": [
    {
     "data": {
      "text/plain": [
       "Index(['trip_distance', 'fare_amount', 'extra', 'tip_amount', 'tolls_amount',\n",
       "       'total_amount', 'month', 'day', 'day_of_week', 'trip_duration',\n",
       "       'weekend', 'store_and_fwd_flag_Y', 'mta_tax_0.5', 'imp_surcharge_0.3',\n",
       "       'rate_code_2', 'rate_code_3', 'rate_code_4', 'rate_code_5',\n",
       "       'payment_type_2', 'payment_type_3', 'payment_type_4', 'hour_of_day_2',\n",
       "       'hour_of_day_3'],\n",
       "      dtype='object')"
      ]
     },
     "execution_count": 22,
     "metadata": {},
     "output_type": "execute_result"
    }
   ],
   "source": [
    "train_X.columns"
   ]
  },
  {
   "cell_type": "code",
   "execution_count": 23,
   "id": "6595e68f",
   "metadata": {},
   "outputs": [],
   "source": [
    "from sklearn.preprocessing import StandardScaler"
   ]
  },
  {
   "cell_type": "code",
   "execution_count": 24,
   "id": "1e437ed7",
   "metadata": {},
   "outputs": [],
   "source": [
    "ss=StandardScaler()"
   ]
  },
  {
   "cell_type": "code",
   "execution_count": 25,
   "id": "4f6dfb93",
   "metadata": {},
   "outputs": [],
   "source": [
    "index_cols_scaling=['trip_distance', 'fare_amount', 'extra', 'tip_amount',\n",
    "       'tolls_amount','total_amount','month', 'day',\n",
    "       'day_of_week', 'trip_duration', 'store_and_fwd_flag_Y']"
   ]
  },
  {
   "cell_type": "code",
   "execution_count": 26,
   "id": "c0d630cc",
   "metadata": {},
   "outputs": [],
   "source": [
    "encoded_cols1=train_X[['rate_code_2',\n",
    "       'rate_code_3', 'rate_code_4', 'rate_code_5', 'payment_type_2',\n",
    "       'payment_type_3', 'payment_type_4','hour_of_day_2', 'hour_of_day_3',\"weekend\",\"mta_tax_0.5\",\"imp_surcharge_0.3\"]].copy()\n",
    "\n",
    "encoded_cols2=test_X[['rate_code_2',\n",
    "       'rate_code_3', 'rate_code_4', 'rate_code_5', 'payment_type_2',\n",
    "       'payment_type_3', 'payment_type_4','hour_of_day_2', 'hour_of_day_3',\"weekend\",\"mta_tax_0.5\",\"imp_surcharge_0.3\"]].copy()\n",
    "\n",
    "encoded_cols3=test[['rate_code_2',\n",
    "       'rate_code_3', 'rate_code_4', 'rate_code_5', 'payment_type_2',\n",
    "       'payment_type_3', 'payment_type_4','hour_of_day_2', 'hour_of_day_3',\"weekend\",\"mta_tax_0.5\",\"imp_surcharge_0.3\"]].copy()"
   ]
  },
  {
   "cell_type": "code",
   "execution_count": 27,
   "id": "c548b157",
   "metadata": {},
   "outputs": [],
   "source": [
    "train_X.drop(['rate_code_2',\n",
    "       'rate_code_3', 'rate_code_4', 'rate_code_5', 'payment_type_2',\n",
    "      'payment_type_3', 'payment_type_4','hour_of_day_2', 'hour_of_day_3',\"weekend\",\"mta_tax_0.5\",\"imp_surcharge_0.3\"],axis=1,inplace=True)"
   ]
  },
  {
   "cell_type": "code",
   "execution_count": 28,
   "id": "932a3603",
   "metadata": {},
   "outputs": [],
   "source": [
    "test_X.drop(['rate_code_2',\n",
    "       'rate_code_3', 'rate_code_4', 'rate_code_5', 'payment_type_2',\n",
    "      'payment_type_3', 'payment_type_4','hour_of_day_2', 'hour_of_day_3',\"weekend\",\"mta_tax_0.5\",\"imp_surcharge_0.3\"],axis=1,inplace=True)"
   ]
  },
  {
   "cell_type": "code",
   "execution_count": 29,
   "id": "de1b04d3",
   "metadata": {},
   "outputs": [],
   "source": [
    "test.drop(['rate_code_2',\n",
    "       'rate_code_3', 'rate_code_4', 'rate_code_5', 'payment_type_2',\n",
    "      'payment_type_3', 'payment_type_4','hour_of_day_2', 'hour_of_day_3',\"weekend\",\"mta_tax_0.5\",\"imp_surcharge_0.3\"],axis=1,inplace=True)"
   ]
  },
  {
   "cell_type": "code",
   "execution_count": 30,
   "id": "2284ac6f",
   "metadata": {},
   "outputs": [],
   "source": [
    "train_X=pd.DataFrame(ss.fit_transform(train_X))\n",
    "train_X.columns=index_cols_scaling"
   ]
  },
  {
   "cell_type": "code",
   "execution_count": 31,
   "id": "934f4ee9",
   "metadata": {},
   "outputs": [],
   "source": [
    "test_X=pd.DataFrame(ss.transform(test_X))\n",
    "test_X.columns=index_cols_scaling"
   ]
  },
  {
   "cell_type": "code",
   "execution_count": 32,
   "id": "85dfb5ed",
   "metadata": {},
   "outputs": [],
   "source": [
    "test=pd.DataFrame(ss.transform(test))\n",
    "test.columns=index_cols_scaling"
   ]
  },
  {
   "cell_type": "code",
   "execution_count": 33,
   "id": "d8638bf4",
   "metadata": {},
   "outputs": [],
   "source": [
    "train_X.index=encoded_cols1.index\n",
    "test_X.index=encoded_cols2.index\n",
    "test.index=encoded_cols3.index"
   ]
  },
  {
   "cell_type": "code",
   "execution_count": 34,
   "id": "0e80204a",
   "metadata": {},
   "outputs": [],
   "source": [
    "train_X=pd.concat([train_X,encoded_cols1],axis=1)\n",
    "test_X=pd.concat([test_X,encoded_cols2],axis=1)\n",
    "test=pd.concat([test,encoded_cols3],axis=1)"
   ]
  },
  {
   "cell_type": "markdown",
   "id": "4198d74a",
   "metadata": {},
   "source": [
    "## LinearRegression"
   ]
  },
  {
   "cell_type": "code",
   "execution_count": 35,
   "id": "6642a8da",
   "metadata": {},
   "outputs": [],
   "source": [
    "from sklearn.linear_model import LinearRegression"
   ]
  },
  {
   "cell_type": "code",
   "execution_count": 36,
   "id": "709941c0",
   "metadata": {},
   "outputs": [],
   "source": [
    "lr=LinearRegression()"
   ]
  },
  {
   "cell_type": "code",
   "execution_count": 37,
   "id": "29509af7",
   "metadata": {},
   "outputs": [
    {
     "data": {
      "text/html": [
       "<style>#sk-container-id-1 {color: black;background-color: white;}#sk-container-id-1 pre{padding: 0;}#sk-container-id-1 div.sk-toggleable {background-color: white;}#sk-container-id-1 label.sk-toggleable__label {cursor: pointer;display: block;width: 100%;margin-bottom: 0;padding: 0.3em;box-sizing: border-box;text-align: center;}#sk-container-id-1 label.sk-toggleable__label-arrow:before {content: \"▸\";float: left;margin-right: 0.25em;color: #696969;}#sk-container-id-1 label.sk-toggleable__label-arrow:hover:before {color: black;}#sk-container-id-1 div.sk-estimator:hover label.sk-toggleable__label-arrow:before {color: black;}#sk-container-id-1 div.sk-toggleable__content {max-height: 0;max-width: 0;overflow: hidden;text-align: left;background-color: #f0f8ff;}#sk-container-id-1 div.sk-toggleable__content pre {margin: 0.2em;color: black;border-radius: 0.25em;background-color: #f0f8ff;}#sk-container-id-1 input.sk-toggleable__control:checked~div.sk-toggleable__content {max-height: 200px;max-width: 100%;overflow: auto;}#sk-container-id-1 input.sk-toggleable__control:checked~label.sk-toggleable__label-arrow:before {content: \"▾\";}#sk-container-id-1 div.sk-estimator input.sk-toggleable__control:checked~label.sk-toggleable__label {background-color: #d4ebff;}#sk-container-id-1 div.sk-label input.sk-toggleable__control:checked~label.sk-toggleable__label {background-color: #d4ebff;}#sk-container-id-1 input.sk-hidden--visually {border: 0;clip: rect(1px 1px 1px 1px);clip: rect(1px, 1px, 1px, 1px);height: 1px;margin: -1px;overflow: hidden;padding: 0;position: absolute;width: 1px;}#sk-container-id-1 div.sk-estimator {font-family: monospace;background-color: #f0f8ff;border: 1px dotted black;border-radius: 0.25em;box-sizing: border-box;margin-bottom: 0.5em;}#sk-container-id-1 div.sk-estimator:hover {background-color: #d4ebff;}#sk-container-id-1 div.sk-parallel-item::after {content: \"\";width: 100%;border-bottom: 1px solid gray;flex-grow: 1;}#sk-container-id-1 div.sk-label:hover label.sk-toggleable__label {background-color: #d4ebff;}#sk-container-id-1 div.sk-serial::before {content: \"\";position: absolute;border-left: 1px solid gray;box-sizing: border-box;top: 0;bottom: 0;left: 50%;z-index: 0;}#sk-container-id-1 div.sk-serial {display: flex;flex-direction: column;align-items: center;background-color: white;padding-right: 0.2em;padding-left: 0.2em;position: relative;}#sk-container-id-1 div.sk-item {position: relative;z-index: 1;}#sk-container-id-1 div.sk-parallel {display: flex;align-items: stretch;justify-content: center;background-color: white;position: relative;}#sk-container-id-1 div.sk-item::before, #sk-container-id-1 div.sk-parallel-item::before {content: \"\";position: absolute;border-left: 1px solid gray;box-sizing: border-box;top: 0;bottom: 0;left: 50%;z-index: -1;}#sk-container-id-1 div.sk-parallel-item {display: flex;flex-direction: column;z-index: 1;position: relative;background-color: white;}#sk-container-id-1 div.sk-parallel-item:first-child::after {align-self: flex-end;width: 50%;}#sk-container-id-1 div.sk-parallel-item:last-child::after {align-self: flex-start;width: 50%;}#sk-container-id-1 div.sk-parallel-item:only-child::after {width: 0;}#sk-container-id-1 div.sk-dashed-wrapped {border: 1px dashed gray;margin: 0 0.4em 0.5em 0.4em;box-sizing: border-box;padding-bottom: 0.4em;background-color: white;}#sk-container-id-1 div.sk-label label {font-family: monospace;font-weight: bold;display: inline-block;line-height: 1.2em;}#sk-container-id-1 div.sk-label-container {text-align: center;}#sk-container-id-1 div.sk-container {/* jupyter's `normalize.less` sets `[hidden] { display: none; }` but bootstrap.min.css set `[hidden] { display: none !important; }` so we also need the `!important` here to be able to override the default hidden behavior on the sphinx rendered scikit-learn.org. See: https://github.com/scikit-learn/scikit-learn/issues/21755 */display: inline-block !important;position: relative;}#sk-container-id-1 div.sk-text-repr-fallback {display: none;}</style><div id=\"sk-container-id-1\" class=\"sk-top-container\"><div class=\"sk-text-repr-fallback\"><pre>LinearRegression()</pre><b>In a Jupyter environment, please rerun this cell to show the HTML representation or trust the notebook. <br />On GitHub, the HTML representation is unable to render, please try loading this page with nbviewer.org.</b></div><div class=\"sk-container\" hidden><div class=\"sk-item\"><div class=\"sk-estimator sk-toggleable\"><input class=\"sk-toggleable__control sk-hidden--visually\" id=\"sk-estimator-id-1\" type=\"checkbox\" checked><label for=\"sk-estimator-id-1\" class=\"sk-toggleable__label sk-toggleable__label-arrow\">LinearRegression</label><div class=\"sk-toggleable__content\"><pre>LinearRegression()</pre></div></div></div></div></div>"
      ],
      "text/plain": [
       "LinearRegression()"
      ]
     },
     "execution_count": 37,
     "metadata": {},
     "output_type": "execute_result"
    }
   ],
   "source": [
    "lr.fit(train_X,train_y)"
   ]
  },
  {
   "cell_type": "code",
   "execution_count": 38,
   "id": "4e728b93",
   "metadata": {},
   "outputs": [],
   "source": [
    "predictions_lr=lr.predict(test_X)"
   ]
  },
  {
   "cell_type": "code",
   "execution_count": 39,
   "id": "1e575335",
   "metadata": {},
   "outputs": [],
   "source": [
    "from sklearn.metrics import mean_squared_error"
   ]
  },
  {
   "cell_type": "code",
   "execution_count": 40,
   "id": "ed64d528",
   "metadata": {},
   "outputs": [],
   "source": [
    "rmse_lr=np.sqrt(mean_squared_error(predictions_lr,test_y))"
   ]
  },
  {
   "cell_type": "code",
   "execution_count": 41,
   "id": "50fe8c2e",
   "metadata": {},
   "outputs": [
    {
     "data": {
      "text/plain": [
       "18.376932505512006"
      ]
     },
     "execution_count": 41,
     "metadata": {},
     "output_type": "execute_result"
    }
   ],
   "source": [
    "rmse_lr"
   ]
  },
  {
   "cell_type": "markdown",
   "id": "d19d597c",
   "metadata": {},
   "source": [
    "## KNN"
   ]
  },
  {
   "cell_type": "code",
   "execution_count": 42,
   "id": "f3941182",
   "metadata": {},
   "outputs": [],
   "source": [
    "from sklearn.neighbors import KNeighborsRegressor"
   ]
  },
  {
   "cell_type": "code",
   "execution_count": 43,
   "id": "e263e2a3",
   "metadata": {},
   "outputs": [],
   "source": [
    "knn=KNeighborsRegressor()"
   ]
  },
  {
   "cell_type": "code",
   "execution_count": 44,
   "id": "653d1253",
   "metadata": {},
   "outputs": [],
   "source": [
    "k_values=list(range(1,7))"
   ]
  },
  {
   "cell_type": "code",
   "execution_count": 45,
   "id": "b7e8a08e",
   "metadata": {},
   "outputs": [],
   "source": [
    "from sklearn.model_selection import GridSearchCV"
   ]
  },
  {
   "cell_type": "code",
   "execution_count": 46,
   "id": "35fac4f6",
   "metadata": {},
   "outputs": [],
   "source": [
    "param_grid={'n_neighbors':k_values}"
   ]
  },
  {
   "cell_type": "code",
   "execution_count": 47,
   "id": "e8da5d69",
   "metadata": {},
   "outputs": [],
   "source": [
    "knn=GridSearchCV(knn,param_grid,cv=5,scoring=\"accuracy\")"
   ]
  },
  {
   "cell_type": "code",
   "execution_count": 48,
   "id": "a336395d",
   "metadata": {},
   "outputs": [
    {
     "data": {
      "text/html": [
       "<style>#sk-container-id-2 {color: black;background-color: white;}#sk-container-id-2 pre{padding: 0;}#sk-container-id-2 div.sk-toggleable {background-color: white;}#sk-container-id-2 label.sk-toggleable__label {cursor: pointer;display: block;width: 100%;margin-bottom: 0;padding: 0.3em;box-sizing: border-box;text-align: center;}#sk-container-id-2 label.sk-toggleable__label-arrow:before {content: \"▸\";float: left;margin-right: 0.25em;color: #696969;}#sk-container-id-2 label.sk-toggleable__label-arrow:hover:before {color: black;}#sk-container-id-2 div.sk-estimator:hover label.sk-toggleable__label-arrow:before {color: black;}#sk-container-id-2 div.sk-toggleable__content {max-height: 0;max-width: 0;overflow: hidden;text-align: left;background-color: #f0f8ff;}#sk-container-id-2 div.sk-toggleable__content pre {margin: 0.2em;color: black;border-radius: 0.25em;background-color: #f0f8ff;}#sk-container-id-2 input.sk-toggleable__control:checked~div.sk-toggleable__content {max-height: 200px;max-width: 100%;overflow: auto;}#sk-container-id-2 input.sk-toggleable__control:checked~label.sk-toggleable__label-arrow:before {content: \"▾\";}#sk-container-id-2 div.sk-estimator input.sk-toggleable__control:checked~label.sk-toggleable__label {background-color: #d4ebff;}#sk-container-id-2 div.sk-label input.sk-toggleable__control:checked~label.sk-toggleable__label {background-color: #d4ebff;}#sk-container-id-2 input.sk-hidden--visually {border: 0;clip: rect(1px 1px 1px 1px);clip: rect(1px, 1px, 1px, 1px);height: 1px;margin: -1px;overflow: hidden;padding: 0;position: absolute;width: 1px;}#sk-container-id-2 div.sk-estimator {font-family: monospace;background-color: #f0f8ff;border: 1px dotted black;border-radius: 0.25em;box-sizing: border-box;margin-bottom: 0.5em;}#sk-container-id-2 div.sk-estimator:hover {background-color: #d4ebff;}#sk-container-id-2 div.sk-parallel-item::after {content: \"\";width: 100%;border-bottom: 1px solid gray;flex-grow: 1;}#sk-container-id-2 div.sk-label:hover label.sk-toggleable__label {background-color: #d4ebff;}#sk-container-id-2 div.sk-serial::before {content: \"\";position: absolute;border-left: 1px solid gray;box-sizing: border-box;top: 0;bottom: 0;left: 50%;z-index: 0;}#sk-container-id-2 div.sk-serial {display: flex;flex-direction: column;align-items: center;background-color: white;padding-right: 0.2em;padding-left: 0.2em;position: relative;}#sk-container-id-2 div.sk-item {position: relative;z-index: 1;}#sk-container-id-2 div.sk-parallel {display: flex;align-items: stretch;justify-content: center;background-color: white;position: relative;}#sk-container-id-2 div.sk-item::before, #sk-container-id-2 div.sk-parallel-item::before {content: \"\";position: absolute;border-left: 1px solid gray;box-sizing: border-box;top: 0;bottom: 0;left: 50%;z-index: -1;}#sk-container-id-2 div.sk-parallel-item {display: flex;flex-direction: column;z-index: 1;position: relative;background-color: white;}#sk-container-id-2 div.sk-parallel-item:first-child::after {align-self: flex-end;width: 50%;}#sk-container-id-2 div.sk-parallel-item:last-child::after {align-self: flex-start;width: 50%;}#sk-container-id-2 div.sk-parallel-item:only-child::after {width: 0;}#sk-container-id-2 div.sk-dashed-wrapped {border: 1px dashed gray;margin: 0 0.4em 0.5em 0.4em;box-sizing: border-box;padding-bottom: 0.4em;background-color: white;}#sk-container-id-2 div.sk-label label {font-family: monospace;font-weight: bold;display: inline-block;line-height: 1.2em;}#sk-container-id-2 div.sk-label-container {text-align: center;}#sk-container-id-2 div.sk-container {/* jupyter's `normalize.less` sets `[hidden] { display: none; }` but bootstrap.min.css set `[hidden] { display: none !important; }` so we also need the `!important` here to be able to override the default hidden behavior on the sphinx rendered scikit-learn.org. See: https://github.com/scikit-learn/scikit-learn/issues/21755 */display: inline-block !important;position: relative;}#sk-container-id-2 div.sk-text-repr-fallback {display: none;}</style><div id=\"sk-container-id-2\" class=\"sk-top-container\"><div class=\"sk-text-repr-fallback\"><pre>GridSearchCV(cv=5, estimator=KNeighborsRegressor(),\n",
       "             param_grid={&#x27;n_neighbors&#x27;: [1, 2, 3, 4, 5, 6]},\n",
       "             scoring=&#x27;accuracy&#x27;)</pre><b>In a Jupyter environment, please rerun this cell to show the HTML representation or trust the notebook. <br />On GitHub, the HTML representation is unable to render, please try loading this page with nbviewer.org.</b></div><div class=\"sk-container\" hidden><div class=\"sk-item sk-dashed-wrapped\"><div class=\"sk-label-container\"><div class=\"sk-label sk-toggleable\"><input class=\"sk-toggleable__control sk-hidden--visually\" id=\"sk-estimator-id-2\" type=\"checkbox\" ><label for=\"sk-estimator-id-2\" class=\"sk-toggleable__label sk-toggleable__label-arrow\">GridSearchCV</label><div class=\"sk-toggleable__content\"><pre>GridSearchCV(cv=5, estimator=KNeighborsRegressor(),\n",
       "             param_grid={&#x27;n_neighbors&#x27;: [1, 2, 3, 4, 5, 6]},\n",
       "             scoring=&#x27;accuracy&#x27;)</pre></div></div></div><div class=\"sk-parallel\"><div class=\"sk-parallel-item\"><div class=\"sk-item\"><div class=\"sk-label-container\"><div class=\"sk-label sk-toggleable\"><input class=\"sk-toggleable__control sk-hidden--visually\" id=\"sk-estimator-id-3\" type=\"checkbox\" ><label for=\"sk-estimator-id-3\" class=\"sk-toggleable__label sk-toggleable__label-arrow\">estimator: KNeighborsRegressor</label><div class=\"sk-toggleable__content\"><pre>KNeighborsRegressor()</pre></div></div></div><div class=\"sk-serial\"><div class=\"sk-item\"><div class=\"sk-estimator sk-toggleable\"><input class=\"sk-toggleable__control sk-hidden--visually\" id=\"sk-estimator-id-4\" type=\"checkbox\" ><label for=\"sk-estimator-id-4\" class=\"sk-toggleable__label sk-toggleable__label-arrow\">KNeighborsRegressor</label><div class=\"sk-toggleable__content\"><pre>KNeighborsRegressor()</pre></div></div></div></div></div></div></div></div></div></div>"
      ],
      "text/plain": [
       "GridSearchCV(cv=5, estimator=KNeighborsRegressor(),\n",
       "             param_grid={'n_neighbors': [1, 2, 3, 4, 5, 6]},\n",
       "             scoring='accuracy')"
      ]
     },
     "execution_count": 48,
     "metadata": {},
     "output_type": "execute_result"
    }
   ],
   "source": [
    "knn.fit(train_X,train_y)"
   ]
  },
  {
   "cell_type": "code",
   "execution_count": 49,
   "id": "a8db1b46",
   "metadata": {},
   "outputs": [
    {
     "data": {
      "text/plain": [
       "{'n_neighbors': 1}"
      ]
     },
     "execution_count": 49,
     "metadata": {},
     "output_type": "execute_result"
    }
   ],
   "source": [
    "knn.best_params_"
   ]
  },
  {
   "cell_type": "code",
   "execution_count": 50,
   "id": "106fbd35",
   "metadata": {},
   "outputs": [],
   "source": [
    "predictions_knn=knn.predict(test_X)"
   ]
  },
  {
   "cell_type": "code",
   "execution_count": 51,
   "id": "4eae1ac5",
   "metadata": {},
   "outputs": [],
   "source": [
    "rmse_knn=np.sqrt(mean_squared_error(test_y,predictions_knn))"
   ]
  },
  {
   "cell_type": "code",
   "execution_count": 52,
   "id": "3868a72d",
   "metadata": {},
   "outputs": [
    {
     "data": {
      "text/plain": [
       "25.906356936915255"
      ]
     },
     "execution_count": 52,
     "metadata": {},
     "output_type": "execute_result"
    }
   ],
   "source": [
    "rmse_knn"
   ]
  },
  {
   "cell_type": "markdown",
   "id": "4a315d3e",
   "metadata": {},
   "source": [
    "## SVM\n"
   ]
  },
  {
   "cell_type": "code",
   "execution_count": 53,
   "id": "e5f760c7",
   "metadata": {},
   "outputs": [],
   "source": [
    "from sklearn.svm import SVR"
   ]
  },
  {
   "cell_type": "code",
   "execution_count": 54,
   "id": "ce720da9",
   "metadata": {},
   "outputs": [],
   "source": [
    "svr=SVR()"
   ]
  },
  {
   "cell_type": "code",
   "execution_count": 55,
   "id": "77f16fa7",
   "metadata": {},
   "outputs": [],
   "source": [
    "param_grid={'kernel':['linear', 'rbf'],\"C\":[0.25,0.5,1,1.5,2]}"
   ]
  },
  {
   "cell_type": "code",
   "execution_count": 56,
   "id": "9b869ec0",
   "metadata": {},
   "outputs": [],
   "source": [
    "svr=GridSearchCV(svr,param_grid,cv=5)"
   ]
  },
  {
   "cell_type": "code",
   "execution_count": 57,
   "id": "1a35ab75",
   "metadata": {},
   "outputs": [
    {
     "data": {
      "text/html": [
       "<style>#sk-container-id-3 {color: black;background-color: white;}#sk-container-id-3 pre{padding: 0;}#sk-container-id-3 div.sk-toggleable {background-color: white;}#sk-container-id-3 label.sk-toggleable__label {cursor: pointer;display: block;width: 100%;margin-bottom: 0;padding: 0.3em;box-sizing: border-box;text-align: center;}#sk-container-id-3 label.sk-toggleable__label-arrow:before {content: \"▸\";float: left;margin-right: 0.25em;color: #696969;}#sk-container-id-3 label.sk-toggleable__label-arrow:hover:before {color: black;}#sk-container-id-3 div.sk-estimator:hover label.sk-toggleable__label-arrow:before {color: black;}#sk-container-id-3 div.sk-toggleable__content {max-height: 0;max-width: 0;overflow: hidden;text-align: left;background-color: #f0f8ff;}#sk-container-id-3 div.sk-toggleable__content pre {margin: 0.2em;color: black;border-radius: 0.25em;background-color: #f0f8ff;}#sk-container-id-3 input.sk-toggleable__control:checked~div.sk-toggleable__content {max-height: 200px;max-width: 100%;overflow: auto;}#sk-container-id-3 input.sk-toggleable__control:checked~label.sk-toggleable__label-arrow:before {content: \"▾\";}#sk-container-id-3 div.sk-estimator input.sk-toggleable__control:checked~label.sk-toggleable__label {background-color: #d4ebff;}#sk-container-id-3 div.sk-label input.sk-toggleable__control:checked~label.sk-toggleable__label {background-color: #d4ebff;}#sk-container-id-3 input.sk-hidden--visually {border: 0;clip: rect(1px 1px 1px 1px);clip: rect(1px, 1px, 1px, 1px);height: 1px;margin: -1px;overflow: hidden;padding: 0;position: absolute;width: 1px;}#sk-container-id-3 div.sk-estimator {font-family: monospace;background-color: #f0f8ff;border: 1px dotted black;border-radius: 0.25em;box-sizing: border-box;margin-bottom: 0.5em;}#sk-container-id-3 div.sk-estimator:hover {background-color: #d4ebff;}#sk-container-id-3 div.sk-parallel-item::after {content: \"\";width: 100%;border-bottom: 1px solid gray;flex-grow: 1;}#sk-container-id-3 div.sk-label:hover label.sk-toggleable__label {background-color: #d4ebff;}#sk-container-id-3 div.sk-serial::before {content: \"\";position: absolute;border-left: 1px solid gray;box-sizing: border-box;top: 0;bottom: 0;left: 50%;z-index: 0;}#sk-container-id-3 div.sk-serial {display: flex;flex-direction: column;align-items: center;background-color: white;padding-right: 0.2em;padding-left: 0.2em;position: relative;}#sk-container-id-3 div.sk-item {position: relative;z-index: 1;}#sk-container-id-3 div.sk-parallel {display: flex;align-items: stretch;justify-content: center;background-color: white;position: relative;}#sk-container-id-3 div.sk-item::before, #sk-container-id-3 div.sk-parallel-item::before {content: \"\";position: absolute;border-left: 1px solid gray;box-sizing: border-box;top: 0;bottom: 0;left: 50%;z-index: -1;}#sk-container-id-3 div.sk-parallel-item {display: flex;flex-direction: column;z-index: 1;position: relative;background-color: white;}#sk-container-id-3 div.sk-parallel-item:first-child::after {align-self: flex-end;width: 50%;}#sk-container-id-3 div.sk-parallel-item:last-child::after {align-self: flex-start;width: 50%;}#sk-container-id-3 div.sk-parallel-item:only-child::after {width: 0;}#sk-container-id-3 div.sk-dashed-wrapped {border: 1px dashed gray;margin: 0 0.4em 0.5em 0.4em;box-sizing: border-box;padding-bottom: 0.4em;background-color: white;}#sk-container-id-3 div.sk-label label {font-family: monospace;font-weight: bold;display: inline-block;line-height: 1.2em;}#sk-container-id-3 div.sk-label-container {text-align: center;}#sk-container-id-3 div.sk-container {/* jupyter's `normalize.less` sets `[hidden] { display: none; }` but bootstrap.min.css set `[hidden] { display: none !important; }` so we also need the `!important` here to be able to override the default hidden behavior on the sphinx rendered scikit-learn.org. See: https://github.com/scikit-learn/scikit-learn/issues/21755 */display: inline-block !important;position: relative;}#sk-container-id-3 div.sk-text-repr-fallback {display: none;}</style><div id=\"sk-container-id-3\" class=\"sk-top-container\"><div class=\"sk-text-repr-fallback\"><pre>GridSearchCV(cv=5, estimator=SVR(),\n",
       "             param_grid={&#x27;C&#x27;: [0.25, 0.5, 1, 1.5, 2],\n",
       "                         &#x27;kernel&#x27;: [&#x27;linear&#x27;, &#x27;rbf&#x27;]})</pre><b>In a Jupyter environment, please rerun this cell to show the HTML representation or trust the notebook. <br />On GitHub, the HTML representation is unable to render, please try loading this page with nbviewer.org.</b></div><div class=\"sk-container\" hidden><div class=\"sk-item sk-dashed-wrapped\"><div class=\"sk-label-container\"><div class=\"sk-label sk-toggleable\"><input class=\"sk-toggleable__control sk-hidden--visually\" id=\"sk-estimator-id-5\" type=\"checkbox\" ><label for=\"sk-estimator-id-5\" class=\"sk-toggleable__label sk-toggleable__label-arrow\">GridSearchCV</label><div class=\"sk-toggleable__content\"><pre>GridSearchCV(cv=5, estimator=SVR(),\n",
       "             param_grid={&#x27;C&#x27;: [0.25, 0.5, 1, 1.5, 2],\n",
       "                         &#x27;kernel&#x27;: [&#x27;linear&#x27;, &#x27;rbf&#x27;]})</pre></div></div></div><div class=\"sk-parallel\"><div class=\"sk-parallel-item\"><div class=\"sk-item\"><div class=\"sk-label-container\"><div class=\"sk-label sk-toggleable\"><input class=\"sk-toggleable__control sk-hidden--visually\" id=\"sk-estimator-id-6\" type=\"checkbox\" ><label for=\"sk-estimator-id-6\" class=\"sk-toggleable__label sk-toggleable__label-arrow\">estimator: SVR</label><div class=\"sk-toggleable__content\"><pre>SVR()</pre></div></div></div><div class=\"sk-serial\"><div class=\"sk-item\"><div class=\"sk-estimator sk-toggleable\"><input class=\"sk-toggleable__control sk-hidden--visually\" id=\"sk-estimator-id-7\" type=\"checkbox\" ><label for=\"sk-estimator-id-7\" class=\"sk-toggleable__label sk-toggleable__label-arrow\">SVR</label><div class=\"sk-toggleable__content\"><pre>SVR()</pre></div></div></div></div></div></div></div></div></div></div>"
      ],
      "text/plain": [
       "GridSearchCV(cv=5, estimator=SVR(),\n",
       "             param_grid={'C': [0.25, 0.5, 1, 1.5, 2],\n",
       "                         'kernel': ['linear', 'rbf']})"
      ]
     },
     "execution_count": 57,
     "metadata": {},
     "output_type": "execute_result"
    }
   ],
   "source": [
    "svr.fit(train_X,train_y)"
   ]
  },
  {
   "cell_type": "code",
   "execution_count": 58,
   "id": "9994b334",
   "metadata": {},
   "outputs": [
    {
     "data": {
      "text/plain": [
       "{'C': 1, 'kernel': 'linear'}"
      ]
     },
     "execution_count": 58,
     "metadata": {},
     "output_type": "execute_result"
    }
   ],
   "source": [
    "svr.best_params_"
   ]
  },
  {
   "cell_type": "code",
   "execution_count": 59,
   "id": "15902d02",
   "metadata": {},
   "outputs": [],
   "source": [
    "predictions_svr=svr.predict(test_X)"
   ]
  },
  {
   "cell_type": "code",
   "execution_count": 60,
   "id": "a415a16f",
   "metadata": {},
   "outputs": [],
   "source": [
    "rmse_svr=np.sqrt(mean_squared_error(predictions_svr,test_y))"
   ]
  },
  {
   "cell_type": "code",
   "execution_count": 61,
   "id": "4d1d6524",
   "metadata": {},
   "outputs": [
    {
     "data": {
      "text/plain": [
       "18.60513990389267"
      ]
     },
     "execution_count": 61,
     "metadata": {},
     "output_type": "execute_result"
    }
   ],
   "source": [
    "rmse_svr"
   ]
  },
  {
   "cell_type": "markdown",
   "id": "e7e19e7c",
   "metadata": {},
   "source": [
    "### RandomForest"
   ]
  },
  {
   "cell_type": "code",
   "execution_count": 62,
   "id": "5e42827d",
   "metadata": {},
   "outputs": [],
   "source": [
    "from sklearn.ensemble import RandomForestRegressor"
   ]
  },
  {
   "cell_type": "code",
   "execution_count": 63,
   "id": "d691b671",
   "metadata": {},
   "outputs": [],
   "source": [
    "rfr=RandomForestRegressor()"
   ]
  },
  {
   "cell_type": "code",
   "execution_count": 64,
   "id": "f7392263",
   "metadata": {},
   "outputs": [],
   "source": [
    "n_estimators=[150,200,250,275,300,350,400]\n",
    "max_features= [1,2,3,4,5]\n",
    "bootstrap = [True]"
   ]
  },
  {
   "cell_type": "code",
   "execution_count": 65,
   "id": "97ae9b82",
   "metadata": {},
   "outputs": [],
   "source": [
    "param_grid = {'n_estimators':n_estimators,\n",
    "             'max_features':max_features,\n",
    "             'bootstrap':bootstrap}  # Note, oob_score only makes sense when bootstrap=True!"
   ]
  },
  {
   "cell_type": "code",
   "execution_count": 66,
   "id": "3d0450e4",
   "metadata": {},
   "outputs": [],
   "source": [
    "rfr= GridSearchCV(rfr,param_grid,cv=5)"
   ]
  },
  {
   "cell_type": "code",
   "execution_count": 67,
   "id": "50aa8281",
   "metadata": {},
   "outputs": [
    {
     "data": {
      "text/html": [
       "<style>#sk-container-id-4 {color: black;background-color: white;}#sk-container-id-4 pre{padding: 0;}#sk-container-id-4 div.sk-toggleable {background-color: white;}#sk-container-id-4 label.sk-toggleable__label {cursor: pointer;display: block;width: 100%;margin-bottom: 0;padding: 0.3em;box-sizing: border-box;text-align: center;}#sk-container-id-4 label.sk-toggleable__label-arrow:before {content: \"▸\";float: left;margin-right: 0.25em;color: #696969;}#sk-container-id-4 label.sk-toggleable__label-arrow:hover:before {color: black;}#sk-container-id-4 div.sk-estimator:hover label.sk-toggleable__label-arrow:before {color: black;}#sk-container-id-4 div.sk-toggleable__content {max-height: 0;max-width: 0;overflow: hidden;text-align: left;background-color: #f0f8ff;}#sk-container-id-4 div.sk-toggleable__content pre {margin: 0.2em;color: black;border-radius: 0.25em;background-color: #f0f8ff;}#sk-container-id-4 input.sk-toggleable__control:checked~div.sk-toggleable__content {max-height: 200px;max-width: 100%;overflow: auto;}#sk-container-id-4 input.sk-toggleable__control:checked~label.sk-toggleable__label-arrow:before {content: \"▾\";}#sk-container-id-4 div.sk-estimator input.sk-toggleable__control:checked~label.sk-toggleable__label {background-color: #d4ebff;}#sk-container-id-4 div.sk-label input.sk-toggleable__control:checked~label.sk-toggleable__label {background-color: #d4ebff;}#sk-container-id-4 input.sk-hidden--visually {border: 0;clip: rect(1px 1px 1px 1px);clip: rect(1px, 1px, 1px, 1px);height: 1px;margin: -1px;overflow: hidden;padding: 0;position: absolute;width: 1px;}#sk-container-id-4 div.sk-estimator {font-family: monospace;background-color: #f0f8ff;border: 1px dotted black;border-radius: 0.25em;box-sizing: border-box;margin-bottom: 0.5em;}#sk-container-id-4 div.sk-estimator:hover {background-color: #d4ebff;}#sk-container-id-4 div.sk-parallel-item::after {content: \"\";width: 100%;border-bottom: 1px solid gray;flex-grow: 1;}#sk-container-id-4 div.sk-label:hover label.sk-toggleable__label {background-color: #d4ebff;}#sk-container-id-4 div.sk-serial::before {content: \"\";position: absolute;border-left: 1px solid gray;box-sizing: border-box;top: 0;bottom: 0;left: 50%;z-index: 0;}#sk-container-id-4 div.sk-serial {display: flex;flex-direction: column;align-items: center;background-color: white;padding-right: 0.2em;padding-left: 0.2em;position: relative;}#sk-container-id-4 div.sk-item {position: relative;z-index: 1;}#sk-container-id-4 div.sk-parallel {display: flex;align-items: stretch;justify-content: center;background-color: white;position: relative;}#sk-container-id-4 div.sk-item::before, #sk-container-id-4 div.sk-parallel-item::before {content: \"\";position: absolute;border-left: 1px solid gray;box-sizing: border-box;top: 0;bottom: 0;left: 50%;z-index: -1;}#sk-container-id-4 div.sk-parallel-item {display: flex;flex-direction: column;z-index: 1;position: relative;background-color: white;}#sk-container-id-4 div.sk-parallel-item:first-child::after {align-self: flex-end;width: 50%;}#sk-container-id-4 div.sk-parallel-item:last-child::after {align-self: flex-start;width: 50%;}#sk-container-id-4 div.sk-parallel-item:only-child::after {width: 0;}#sk-container-id-4 div.sk-dashed-wrapped {border: 1px dashed gray;margin: 0 0.4em 0.5em 0.4em;box-sizing: border-box;padding-bottom: 0.4em;background-color: white;}#sk-container-id-4 div.sk-label label {font-family: monospace;font-weight: bold;display: inline-block;line-height: 1.2em;}#sk-container-id-4 div.sk-label-container {text-align: center;}#sk-container-id-4 div.sk-container {/* jupyter's `normalize.less` sets `[hidden] { display: none; }` but bootstrap.min.css set `[hidden] { display: none !important; }` so we also need the `!important` here to be able to override the default hidden behavior on the sphinx rendered scikit-learn.org. See: https://github.com/scikit-learn/scikit-learn/issues/21755 */display: inline-block !important;position: relative;}#sk-container-id-4 div.sk-text-repr-fallback {display: none;}</style><div id=\"sk-container-id-4\" class=\"sk-top-container\"><div class=\"sk-text-repr-fallback\"><pre>GridSearchCV(cv=5, estimator=RandomForestRegressor(),\n",
       "             param_grid={&#x27;bootstrap&#x27;: [True], &#x27;max_features&#x27;: [1, 2, 3, 4, 5],\n",
       "                         &#x27;n_estimators&#x27;: [150, 200, 250, 275, 300, 350, 400]})</pre><b>In a Jupyter environment, please rerun this cell to show the HTML representation or trust the notebook. <br />On GitHub, the HTML representation is unable to render, please try loading this page with nbviewer.org.</b></div><div class=\"sk-container\" hidden><div class=\"sk-item sk-dashed-wrapped\"><div class=\"sk-label-container\"><div class=\"sk-label sk-toggleable\"><input class=\"sk-toggleable__control sk-hidden--visually\" id=\"sk-estimator-id-8\" type=\"checkbox\" ><label for=\"sk-estimator-id-8\" class=\"sk-toggleable__label sk-toggleable__label-arrow\">GridSearchCV</label><div class=\"sk-toggleable__content\"><pre>GridSearchCV(cv=5, estimator=RandomForestRegressor(),\n",
       "             param_grid={&#x27;bootstrap&#x27;: [True], &#x27;max_features&#x27;: [1, 2, 3, 4, 5],\n",
       "                         &#x27;n_estimators&#x27;: [150, 200, 250, 275, 300, 350, 400]})</pre></div></div></div><div class=\"sk-parallel\"><div class=\"sk-parallel-item\"><div class=\"sk-item\"><div class=\"sk-label-container\"><div class=\"sk-label sk-toggleable\"><input class=\"sk-toggleable__control sk-hidden--visually\" id=\"sk-estimator-id-9\" type=\"checkbox\" ><label for=\"sk-estimator-id-9\" class=\"sk-toggleable__label sk-toggleable__label-arrow\">estimator: RandomForestRegressor</label><div class=\"sk-toggleable__content\"><pre>RandomForestRegressor()</pre></div></div></div><div class=\"sk-serial\"><div class=\"sk-item\"><div class=\"sk-estimator sk-toggleable\"><input class=\"sk-toggleable__control sk-hidden--visually\" id=\"sk-estimator-id-10\" type=\"checkbox\" ><label for=\"sk-estimator-id-10\" class=\"sk-toggleable__label sk-toggleable__label-arrow\">RandomForestRegressor</label><div class=\"sk-toggleable__content\"><pre>RandomForestRegressor()</pre></div></div></div></div></div></div></div></div></div></div>"
      ],
      "text/plain": [
       "GridSearchCV(cv=5, estimator=RandomForestRegressor(),\n",
       "             param_grid={'bootstrap': [True], 'max_features': [1, 2, 3, 4, 5],\n",
       "                         'n_estimators': [150, 200, 250, 275, 300, 350, 400]})"
      ]
     },
     "execution_count": 67,
     "metadata": {},
     "output_type": "execute_result"
    }
   ],
   "source": [
    "rfr.fit(train_X,train_y)"
   ]
  },
  {
   "cell_type": "code",
   "execution_count": 68,
   "id": "705f1eb4",
   "metadata": {},
   "outputs": [
    {
     "data": {
      "text/plain": [
       "{'bootstrap': True, 'max_features': 5, 'n_estimators': 350}"
      ]
     },
     "execution_count": 68,
     "metadata": {},
     "output_type": "execute_result"
    }
   ],
   "source": [
    "rfr.best_params_"
   ]
  },
  {
   "cell_type": "code",
   "execution_count": 69,
   "id": "813446b4",
   "metadata": {},
   "outputs": [],
   "source": [
    "predictions_rfr=rfr.predict(test_X)"
   ]
  },
  {
   "cell_type": "code",
   "execution_count": 70,
   "id": "d4e548b8",
   "metadata": {},
   "outputs": [],
   "source": [
    "rmse_rfr=np.sqrt(mean_squared_error(predictions_rfr,test_y))"
   ]
  },
  {
   "cell_type": "code",
   "execution_count": 71,
   "id": "d5985ccb",
   "metadata": {},
   "outputs": [
    {
     "data": {
      "text/plain": [
       "18.765431344362334"
      ]
     },
     "execution_count": 71,
     "metadata": {},
     "output_type": "execute_result"
    }
   ],
   "source": [
    "rmse_rfr"
   ]
  },
  {
   "cell_type": "markdown",
   "id": "dd4f07ab",
   "metadata": {},
   "source": [
    "### Gradient Boosting"
   ]
  },
  {
   "cell_type": "code",
   "execution_count": 72,
   "id": "eb97b76b",
   "metadata": {},
   "outputs": [],
   "source": [
    "from sklearn.ensemble import GradientBoostingRegressor"
   ]
  },
  {
   "cell_type": "code",
   "execution_count": 73,
   "id": "819c73c1",
   "metadata": {},
   "outputs": [],
   "source": [
    "gbr=GradientBoostingRegressor()"
   ]
  },
  {
   "cell_type": "code",
   "execution_count": 74,
   "id": "b14cccf6",
   "metadata": {},
   "outputs": [],
   "source": [
    "param_grid = {\"n_estimators\":[2,3,4,5,6,7,8,9,10,11,12],'max_depth':[1,2,3,4]}"
   ]
  },
  {
   "cell_type": "code",
   "execution_count": 75,
   "id": "600e335b",
   "metadata": {},
   "outputs": [],
   "source": [
    "gbr = GridSearchCV(gbr,param_grid,cv=5)"
   ]
  },
  {
   "cell_type": "code",
   "execution_count": 76,
   "id": "d66a15ff",
   "metadata": {},
   "outputs": [
    {
     "data": {
      "text/html": [
       "<style>#sk-container-id-5 {color: black;background-color: white;}#sk-container-id-5 pre{padding: 0;}#sk-container-id-5 div.sk-toggleable {background-color: white;}#sk-container-id-5 label.sk-toggleable__label {cursor: pointer;display: block;width: 100%;margin-bottom: 0;padding: 0.3em;box-sizing: border-box;text-align: center;}#sk-container-id-5 label.sk-toggleable__label-arrow:before {content: \"▸\";float: left;margin-right: 0.25em;color: #696969;}#sk-container-id-5 label.sk-toggleable__label-arrow:hover:before {color: black;}#sk-container-id-5 div.sk-estimator:hover label.sk-toggleable__label-arrow:before {color: black;}#sk-container-id-5 div.sk-toggleable__content {max-height: 0;max-width: 0;overflow: hidden;text-align: left;background-color: #f0f8ff;}#sk-container-id-5 div.sk-toggleable__content pre {margin: 0.2em;color: black;border-radius: 0.25em;background-color: #f0f8ff;}#sk-container-id-5 input.sk-toggleable__control:checked~div.sk-toggleable__content {max-height: 200px;max-width: 100%;overflow: auto;}#sk-container-id-5 input.sk-toggleable__control:checked~label.sk-toggleable__label-arrow:before {content: \"▾\";}#sk-container-id-5 div.sk-estimator input.sk-toggleable__control:checked~label.sk-toggleable__label {background-color: #d4ebff;}#sk-container-id-5 div.sk-label input.sk-toggleable__control:checked~label.sk-toggleable__label {background-color: #d4ebff;}#sk-container-id-5 input.sk-hidden--visually {border: 0;clip: rect(1px 1px 1px 1px);clip: rect(1px, 1px, 1px, 1px);height: 1px;margin: -1px;overflow: hidden;padding: 0;position: absolute;width: 1px;}#sk-container-id-5 div.sk-estimator {font-family: monospace;background-color: #f0f8ff;border: 1px dotted black;border-radius: 0.25em;box-sizing: border-box;margin-bottom: 0.5em;}#sk-container-id-5 div.sk-estimator:hover {background-color: #d4ebff;}#sk-container-id-5 div.sk-parallel-item::after {content: \"\";width: 100%;border-bottom: 1px solid gray;flex-grow: 1;}#sk-container-id-5 div.sk-label:hover label.sk-toggleable__label {background-color: #d4ebff;}#sk-container-id-5 div.sk-serial::before {content: \"\";position: absolute;border-left: 1px solid gray;box-sizing: border-box;top: 0;bottom: 0;left: 50%;z-index: 0;}#sk-container-id-5 div.sk-serial {display: flex;flex-direction: column;align-items: center;background-color: white;padding-right: 0.2em;padding-left: 0.2em;position: relative;}#sk-container-id-5 div.sk-item {position: relative;z-index: 1;}#sk-container-id-5 div.sk-parallel {display: flex;align-items: stretch;justify-content: center;background-color: white;position: relative;}#sk-container-id-5 div.sk-item::before, #sk-container-id-5 div.sk-parallel-item::before {content: \"\";position: absolute;border-left: 1px solid gray;box-sizing: border-box;top: 0;bottom: 0;left: 50%;z-index: -1;}#sk-container-id-5 div.sk-parallel-item {display: flex;flex-direction: column;z-index: 1;position: relative;background-color: white;}#sk-container-id-5 div.sk-parallel-item:first-child::after {align-self: flex-end;width: 50%;}#sk-container-id-5 div.sk-parallel-item:last-child::after {align-self: flex-start;width: 50%;}#sk-container-id-5 div.sk-parallel-item:only-child::after {width: 0;}#sk-container-id-5 div.sk-dashed-wrapped {border: 1px dashed gray;margin: 0 0.4em 0.5em 0.4em;box-sizing: border-box;padding-bottom: 0.4em;background-color: white;}#sk-container-id-5 div.sk-label label {font-family: monospace;font-weight: bold;display: inline-block;line-height: 1.2em;}#sk-container-id-5 div.sk-label-container {text-align: center;}#sk-container-id-5 div.sk-container {/* jupyter's `normalize.less` sets `[hidden] { display: none; }` but bootstrap.min.css set `[hidden] { display: none !important; }` so we also need the `!important` here to be able to override the default hidden behavior on the sphinx rendered scikit-learn.org. See: https://github.com/scikit-learn/scikit-learn/issues/21755 */display: inline-block !important;position: relative;}#sk-container-id-5 div.sk-text-repr-fallback {display: none;}</style><div id=\"sk-container-id-5\" class=\"sk-top-container\"><div class=\"sk-text-repr-fallback\"><pre>GridSearchCV(cv=5, estimator=GradientBoostingRegressor(),\n",
       "             param_grid={&#x27;max_depth&#x27;: [1, 2, 3, 4],\n",
       "                         &#x27;n_estimators&#x27;: [2, 3, 4, 5, 6, 7, 8, 9, 10, 11, 12]})</pre><b>In a Jupyter environment, please rerun this cell to show the HTML representation or trust the notebook. <br />On GitHub, the HTML representation is unable to render, please try loading this page with nbviewer.org.</b></div><div class=\"sk-container\" hidden><div class=\"sk-item sk-dashed-wrapped\"><div class=\"sk-label-container\"><div class=\"sk-label sk-toggleable\"><input class=\"sk-toggleable__control sk-hidden--visually\" id=\"sk-estimator-id-11\" type=\"checkbox\" ><label for=\"sk-estimator-id-11\" class=\"sk-toggleable__label sk-toggleable__label-arrow\">GridSearchCV</label><div class=\"sk-toggleable__content\"><pre>GridSearchCV(cv=5, estimator=GradientBoostingRegressor(),\n",
       "             param_grid={&#x27;max_depth&#x27;: [1, 2, 3, 4],\n",
       "                         &#x27;n_estimators&#x27;: [2, 3, 4, 5, 6, 7, 8, 9, 10, 11, 12]})</pre></div></div></div><div class=\"sk-parallel\"><div class=\"sk-parallel-item\"><div class=\"sk-item\"><div class=\"sk-label-container\"><div class=\"sk-label sk-toggleable\"><input class=\"sk-toggleable__control sk-hidden--visually\" id=\"sk-estimator-id-12\" type=\"checkbox\" ><label for=\"sk-estimator-id-12\" class=\"sk-toggleable__label sk-toggleable__label-arrow\">estimator: GradientBoostingRegressor</label><div class=\"sk-toggleable__content\"><pre>GradientBoostingRegressor()</pre></div></div></div><div class=\"sk-serial\"><div class=\"sk-item\"><div class=\"sk-estimator sk-toggleable\"><input class=\"sk-toggleable__control sk-hidden--visually\" id=\"sk-estimator-id-13\" type=\"checkbox\" ><label for=\"sk-estimator-id-13\" class=\"sk-toggleable__label sk-toggleable__label-arrow\">GradientBoostingRegressor</label><div class=\"sk-toggleable__content\"><pre>GradientBoostingRegressor()</pre></div></div></div></div></div></div></div></div></div></div>"
      ],
      "text/plain": [
       "GridSearchCV(cv=5, estimator=GradientBoostingRegressor(),\n",
       "             param_grid={'max_depth': [1, 2, 3, 4],\n",
       "                         'n_estimators': [2, 3, 4, 5, 6, 7, 8, 9, 10, 11, 12]})"
      ]
     },
     "execution_count": 76,
     "metadata": {},
     "output_type": "execute_result"
    }
   ],
   "source": [
    "gbr.fit(train_X,train_y)"
   ]
  },
  {
   "cell_type": "code",
   "execution_count": 77,
   "id": "336c1e55",
   "metadata": {},
   "outputs": [
    {
     "data": {
      "text/plain": [
       "{'max_depth': 2, 'n_estimators': 12}"
      ]
     },
     "execution_count": 77,
     "metadata": {},
     "output_type": "execute_result"
    }
   ],
   "source": [
    "gbr.best_params_"
   ]
  },
  {
   "cell_type": "code",
   "execution_count": 78,
   "id": "1b149157",
   "metadata": {},
   "outputs": [],
   "source": [
    "predictions_gbr=gbr.predict(test_X)"
   ]
  },
  {
   "cell_type": "code",
   "execution_count": 79,
   "id": "6f226e74",
   "metadata": {},
   "outputs": [],
   "source": [
    "rmse_gbr=np.sqrt(mean_squared_error(predictions_gbr,test_y))"
   ]
  },
  {
   "cell_type": "code",
   "execution_count": 80,
   "id": "aa817396",
   "metadata": {},
   "outputs": [
    {
     "data": {
      "text/plain": [
       "18.35972222091564"
      ]
     },
     "execution_count": 80,
     "metadata": {},
     "output_type": "execute_result"
    }
   ],
   "source": [
    "rmse_gbr"
   ]
  },
  {
   "cell_type": "markdown",
   "id": "ff64deb8",
   "metadata": {},
   "source": [
    "## XGBoost"
   ]
  },
  {
   "cell_type": "code",
   "execution_count": 81,
   "id": "1a1655b9",
   "metadata": {},
   "outputs": [],
   "source": [
    "from xgboost import XGBRegressor"
   ]
  },
  {
   "cell_type": "code",
   "execution_count": 82,
   "id": "6d77281d",
   "metadata": {},
   "outputs": [],
   "source": [
    "xgb=XGBRegressor()"
   ]
  },
  {
   "cell_type": "code",
   "execution_count": 83,
   "id": "7b36a736",
   "metadata": {},
   "outputs": [],
   "source": [
    "param_grid={\"n_estimators\":[100,150,200,250,300,350,400],'max_depth': [2,3, 4, 5]}"
   ]
  },
  {
   "cell_type": "code",
   "execution_count": 84,
   "id": "85dcba6d",
   "metadata": {},
   "outputs": [],
   "source": [
    "xgb=GridSearchCV(xgb,param_grid,cv=5)"
   ]
  },
  {
   "cell_type": "code",
   "execution_count": 85,
   "id": "52b8e0d8",
   "metadata": {},
   "outputs": [
    {
     "data": {
      "text/html": [
       "<style>#sk-container-id-6 {color: black;background-color: white;}#sk-container-id-6 pre{padding: 0;}#sk-container-id-6 div.sk-toggleable {background-color: white;}#sk-container-id-6 label.sk-toggleable__label {cursor: pointer;display: block;width: 100%;margin-bottom: 0;padding: 0.3em;box-sizing: border-box;text-align: center;}#sk-container-id-6 label.sk-toggleable__label-arrow:before {content: \"▸\";float: left;margin-right: 0.25em;color: #696969;}#sk-container-id-6 label.sk-toggleable__label-arrow:hover:before {color: black;}#sk-container-id-6 div.sk-estimator:hover label.sk-toggleable__label-arrow:before {color: black;}#sk-container-id-6 div.sk-toggleable__content {max-height: 0;max-width: 0;overflow: hidden;text-align: left;background-color: #f0f8ff;}#sk-container-id-6 div.sk-toggleable__content pre {margin: 0.2em;color: black;border-radius: 0.25em;background-color: #f0f8ff;}#sk-container-id-6 input.sk-toggleable__control:checked~div.sk-toggleable__content {max-height: 200px;max-width: 100%;overflow: auto;}#sk-container-id-6 input.sk-toggleable__control:checked~label.sk-toggleable__label-arrow:before {content: \"▾\";}#sk-container-id-6 div.sk-estimator input.sk-toggleable__control:checked~label.sk-toggleable__label {background-color: #d4ebff;}#sk-container-id-6 div.sk-label input.sk-toggleable__control:checked~label.sk-toggleable__label {background-color: #d4ebff;}#sk-container-id-6 input.sk-hidden--visually {border: 0;clip: rect(1px 1px 1px 1px);clip: rect(1px, 1px, 1px, 1px);height: 1px;margin: -1px;overflow: hidden;padding: 0;position: absolute;width: 1px;}#sk-container-id-6 div.sk-estimator {font-family: monospace;background-color: #f0f8ff;border: 1px dotted black;border-radius: 0.25em;box-sizing: border-box;margin-bottom: 0.5em;}#sk-container-id-6 div.sk-estimator:hover {background-color: #d4ebff;}#sk-container-id-6 div.sk-parallel-item::after {content: \"\";width: 100%;border-bottom: 1px solid gray;flex-grow: 1;}#sk-container-id-6 div.sk-label:hover label.sk-toggleable__label {background-color: #d4ebff;}#sk-container-id-6 div.sk-serial::before {content: \"\";position: absolute;border-left: 1px solid gray;box-sizing: border-box;top: 0;bottom: 0;left: 50%;z-index: 0;}#sk-container-id-6 div.sk-serial {display: flex;flex-direction: column;align-items: center;background-color: white;padding-right: 0.2em;padding-left: 0.2em;position: relative;}#sk-container-id-6 div.sk-item {position: relative;z-index: 1;}#sk-container-id-6 div.sk-parallel {display: flex;align-items: stretch;justify-content: center;background-color: white;position: relative;}#sk-container-id-6 div.sk-item::before, #sk-container-id-6 div.sk-parallel-item::before {content: \"\";position: absolute;border-left: 1px solid gray;box-sizing: border-box;top: 0;bottom: 0;left: 50%;z-index: -1;}#sk-container-id-6 div.sk-parallel-item {display: flex;flex-direction: column;z-index: 1;position: relative;background-color: white;}#sk-container-id-6 div.sk-parallel-item:first-child::after {align-self: flex-end;width: 50%;}#sk-container-id-6 div.sk-parallel-item:last-child::after {align-self: flex-start;width: 50%;}#sk-container-id-6 div.sk-parallel-item:only-child::after {width: 0;}#sk-container-id-6 div.sk-dashed-wrapped {border: 1px dashed gray;margin: 0 0.4em 0.5em 0.4em;box-sizing: border-box;padding-bottom: 0.4em;background-color: white;}#sk-container-id-6 div.sk-label label {font-family: monospace;font-weight: bold;display: inline-block;line-height: 1.2em;}#sk-container-id-6 div.sk-label-container {text-align: center;}#sk-container-id-6 div.sk-container {/* jupyter's `normalize.less` sets `[hidden] { display: none; }` but bootstrap.min.css set `[hidden] { display: none !important; }` so we also need the `!important` here to be able to override the default hidden behavior on the sphinx rendered scikit-learn.org. See: https://github.com/scikit-learn/scikit-learn/issues/21755 */display: inline-block !important;position: relative;}#sk-container-id-6 div.sk-text-repr-fallback {display: none;}</style><div id=\"sk-container-id-6\" class=\"sk-top-container\"><div class=\"sk-text-repr-fallback\"><pre>GridSearchCV(cv=5,\n",
       "             estimator=XGBRegressor(base_score=None, booster=None,\n",
       "                                    callbacks=None, colsample_bylevel=None,\n",
       "                                    colsample_bynode=None,\n",
       "                                    colsample_bytree=None,\n",
       "                                    early_stopping_rounds=None,\n",
       "                                    enable_categorical=False, eval_metric=None,\n",
       "                                    feature_types=None, gamma=None, gpu_id=None,\n",
       "                                    grow_policy=None, importance_type=None,\n",
       "                                    interaction_constraints=None,\n",
       "                                    learning_rate=None, max_bin=None,\n",
       "                                    max_cat_threshold=None,\n",
       "                                    max_cat_to_onehot=None, max_delta_step=None,\n",
       "                                    max_depth=None, max_leaves=None,\n",
       "                                    min_child_weight=None, missing=nan,\n",
       "                                    monotone_constraints=None, n_estimators=100,\n",
       "                                    n_jobs=None, num_parallel_tree=None,\n",
       "                                    predictor=None, random_state=None, ...),\n",
       "             param_grid={&#x27;max_depth&#x27;: [2, 3, 4, 5],\n",
       "                         &#x27;n_estimators&#x27;: [100, 150, 200, 250, 300, 350, 400]})</pre><b>In a Jupyter environment, please rerun this cell to show the HTML representation or trust the notebook. <br />On GitHub, the HTML representation is unable to render, please try loading this page with nbviewer.org.</b></div><div class=\"sk-container\" hidden><div class=\"sk-item sk-dashed-wrapped\"><div class=\"sk-label-container\"><div class=\"sk-label sk-toggleable\"><input class=\"sk-toggleable__control sk-hidden--visually\" id=\"sk-estimator-id-14\" type=\"checkbox\" ><label for=\"sk-estimator-id-14\" class=\"sk-toggleable__label sk-toggleable__label-arrow\">GridSearchCV</label><div class=\"sk-toggleable__content\"><pre>GridSearchCV(cv=5,\n",
       "             estimator=XGBRegressor(base_score=None, booster=None,\n",
       "                                    callbacks=None, colsample_bylevel=None,\n",
       "                                    colsample_bynode=None,\n",
       "                                    colsample_bytree=None,\n",
       "                                    early_stopping_rounds=None,\n",
       "                                    enable_categorical=False, eval_metric=None,\n",
       "                                    feature_types=None, gamma=None, gpu_id=None,\n",
       "                                    grow_policy=None, importance_type=None,\n",
       "                                    interaction_constraints=None,\n",
       "                                    learning_rate=None, max_bin=None,\n",
       "                                    max_cat_threshold=None,\n",
       "                                    max_cat_to_onehot=None, max_delta_step=None,\n",
       "                                    max_depth=None, max_leaves=None,\n",
       "                                    min_child_weight=None, missing=nan,\n",
       "                                    monotone_constraints=None, n_estimators=100,\n",
       "                                    n_jobs=None, num_parallel_tree=None,\n",
       "                                    predictor=None, random_state=None, ...),\n",
       "             param_grid={&#x27;max_depth&#x27;: [2, 3, 4, 5],\n",
       "                         &#x27;n_estimators&#x27;: [100, 150, 200, 250, 300, 350, 400]})</pre></div></div></div><div class=\"sk-parallel\"><div class=\"sk-parallel-item\"><div class=\"sk-item\"><div class=\"sk-label-container\"><div class=\"sk-label sk-toggleable\"><input class=\"sk-toggleable__control sk-hidden--visually\" id=\"sk-estimator-id-15\" type=\"checkbox\" ><label for=\"sk-estimator-id-15\" class=\"sk-toggleable__label sk-toggleable__label-arrow\">estimator: XGBRegressor</label><div class=\"sk-toggleable__content\"><pre>XGBRegressor(base_score=None, booster=None, callbacks=None,\n",
       "             colsample_bylevel=None, colsample_bynode=None,\n",
       "             colsample_bytree=None, early_stopping_rounds=None,\n",
       "             enable_categorical=False, eval_metric=None, feature_types=None,\n",
       "             gamma=None, gpu_id=None, grow_policy=None, importance_type=None,\n",
       "             interaction_constraints=None, learning_rate=None, max_bin=None,\n",
       "             max_cat_threshold=None, max_cat_to_onehot=None,\n",
       "             max_delta_step=None, max_depth=None, max_leaves=None,\n",
       "             min_child_weight=None, missing=nan, monotone_constraints=None,\n",
       "             n_estimators=100, n_jobs=None, num_parallel_tree=None,\n",
       "             predictor=None, random_state=None, ...)</pre></div></div></div><div class=\"sk-serial\"><div class=\"sk-item\"><div class=\"sk-estimator sk-toggleable\"><input class=\"sk-toggleable__control sk-hidden--visually\" id=\"sk-estimator-id-16\" type=\"checkbox\" ><label for=\"sk-estimator-id-16\" class=\"sk-toggleable__label sk-toggleable__label-arrow\">XGBRegressor</label><div class=\"sk-toggleable__content\"><pre>XGBRegressor(base_score=None, booster=None, callbacks=None,\n",
       "             colsample_bylevel=None, colsample_bynode=None,\n",
       "             colsample_bytree=None, early_stopping_rounds=None,\n",
       "             enable_categorical=False, eval_metric=None, feature_types=None,\n",
       "             gamma=None, gpu_id=None, grow_policy=None, importance_type=None,\n",
       "             interaction_constraints=None, learning_rate=None, max_bin=None,\n",
       "             max_cat_threshold=None, max_cat_to_onehot=None,\n",
       "             max_delta_step=None, max_depth=None, max_leaves=None,\n",
       "             min_child_weight=None, missing=nan, monotone_constraints=None,\n",
       "             n_estimators=100, n_jobs=None, num_parallel_tree=None,\n",
       "             predictor=None, random_state=None, ...)</pre></div></div></div></div></div></div></div></div></div></div>"
      ],
      "text/plain": [
       "GridSearchCV(cv=5,\n",
       "             estimator=XGBRegressor(base_score=None, booster=None,\n",
       "                                    callbacks=None, colsample_bylevel=None,\n",
       "                                    colsample_bynode=None,\n",
       "                                    colsample_bytree=None,\n",
       "                                    early_stopping_rounds=None,\n",
       "                                    enable_categorical=False, eval_metric=None,\n",
       "                                    feature_types=None, gamma=None, gpu_id=None,\n",
       "                                    grow_policy=None, importance_type=None,\n",
       "                                    interaction_constraints=None,\n",
       "                                    learning_rate=None, max_bin=None,\n",
       "                                    max_cat_threshold=None,\n",
       "                                    max_cat_to_onehot=None, max_delta_step=None,\n",
       "                                    max_depth=None, max_leaves=None,\n",
       "                                    min_child_weight=None, missing=nan,\n",
       "                                    monotone_constraints=None, n_estimators=100,\n",
       "                                    n_jobs=None, num_parallel_tree=None,\n",
       "                                    predictor=None, random_state=None, ...),\n",
       "             param_grid={'max_depth': [2, 3, 4, 5],\n",
       "                         'n_estimators': [100, 150, 200, 250, 300, 350, 400]})"
      ]
     },
     "execution_count": 85,
     "metadata": {},
     "output_type": "execute_result"
    }
   ],
   "source": [
    "xgb.fit(train_X,train_y)"
   ]
  },
  {
   "cell_type": "code",
   "execution_count": 86,
   "id": "ff3b9299",
   "metadata": {},
   "outputs": [
    {
     "data": {
      "text/plain": [
       "{'max_depth': 2, 'n_estimators': 100}"
      ]
     },
     "execution_count": 86,
     "metadata": {},
     "output_type": "execute_result"
    }
   ],
   "source": [
    "xgb.best_params_"
   ]
  },
  {
   "cell_type": "code",
   "execution_count": 87,
   "id": "690efad8",
   "metadata": {},
   "outputs": [],
   "source": [
    "predictions_xgb=xgb.predict(test_X)"
   ]
  },
  {
   "cell_type": "code",
   "execution_count": 88,
   "id": "29f23543",
   "metadata": {},
   "outputs": [],
   "source": [
    "rmse_xgb=np.sqrt(mean_squared_error(predictions_xgb,test_y))"
   ]
  },
  {
   "cell_type": "code",
   "execution_count": 89,
   "id": "fc9933a5",
   "metadata": {},
   "outputs": [
    {
     "data": {
      "text/plain": [
       "18.452298375456405"
      ]
     },
     "execution_count": 89,
     "metadata": {},
     "output_type": "execute_result"
    }
   ],
   "source": [
    "rmse_xgb"
   ]
  },
  {
   "cell_type": "markdown",
   "id": "c3f893bb",
   "metadata": {},
   "source": [
    "## ANN"
   ]
  },
  {
   "cell_type": "code",
   "execution_count": 90,
   "id": "dd6d5cfe",
   "metadata": {},
   "outputs": [
    {
     "name": "stdout",
     "output_type": "stream",
     "text": [
      "Metal device set to: Apple M1 Pro\n",
      "Epoch 1/50\n"
     ]
    },
    {
     "name": "stderr",
     "output_type": "stream",
     "text": [
      "2023-01-24 18:40:24.381822: I tensorflow/core/common_runtime/pluggable_device/pluggable_device_factory.cc:305] Could not identify NUMA node of platform GPU ID 0, defaulting to 0. Your kernel may not have been built with NUMA support.\n",
      "2023-01-24 18:40:24.381947: I tensorflow/core/common_runtime/pluggable_device/pluggable_device_factory.cc:271] Created TensorFlow device (/job:localhost/replica:0/task:0/device:GPU:0 with 0 MB memory) -> physical PluggableDevice (device: 0, name: METAL, pci bus id: <undefined>)\n",
      "2023-01-24 18:40:24.566505: W tensorflow/core/platform/profile_utils/cpu_utils.cc:128] Failed to get CPU frequency: 0 Hz\n",
      "2023-01-24 18:40:24.953990: I tensorflow/core/grappler/optimizers/custom_graph_optimizer_registry.cc:113] Plugin optimizer for device_type GPU is enabled.\n"
     ]
    },
    {
     "name": "stdout",
     "output_type": "stream",
     "text": [
      "394/394 [==============================] - ETA: 0s - loss: 0.3075 - mean_squared_logarithmic_error: 0.3076"
     ]
    },
    {
     "name": "stderr",
     "output_type": "stream",
     "text": [
      "2023-01-24 18:40:29.443383: I tensorflow/core/grappler/optimizers/custom_graph_optimizer_registry.cc:113] Plugin optimizer for device_type GPU is enabled.\n"
     ]
    },
    {
     "name": "stdout",
     "output_type": "stream",
     "text": [
      "394/394 [==============================] - 5s 7ms/step - loss: 0.3075 - mean_squared_logarithmic_error: 0.3076 - val_loss: 0.2545 - val_mean_squared_logarithmic_error: 0.2547\n",
      "Epoch 2/50\n",
      "394/394 [==============================] - 3s 7ms/step - loss: 0.2414 - mean_squared_logarithmic_error: 0.2415 - val_loss: 0.2679 - val_mean_squared_logarithmic_error: 0.2683\n",
      "Epoch 3/50\n",
      "394/394 [==============================] - 3s 7ms/step - loss: 0.2394 - mean_squared_logarithmic_error: 0.2396 - val_loss: 0.2489 - val_mean_squared_logarithmic_error: 0.2491\n",
      "Epoch 4/50\n",
      "394/394 [==============================] - 3s 7ms/step - loss: 0.2363 - mean_squared_logarithmic_error: 0.2363 - val_loss: 0.2470 - val_mean_squared_logarithmic_error: 0.2472\n",
      "Epoch 5/50\n",
      "394/394 [==============================] - 3s 7ms/step - loss: 0.2352 - mean_squared_logarithmic_error: 0.2352 - val_loss: 0.2643 - val_mean_squared_logarithmic_error: 0.2646\n",
      "Epoch 6/50\n",
      "394/394 [==============================] - 3s 7ms/step - loss: 0.2344 - mean_squared_logarithmic_error: 0.2344 - val_loss: 0.2463 - val_mean_squared_logarithmic_error: 0.2465\n",
      "Epoch 7/50\n",
      "394/394 [==============================] - 3s 7ms/step - loss: 0.2340 - mean_squared_logarithmic_error: 0.2339 - val_loss: 0.2470 - val_mean_squared_logarithmic_error: 0.2472\n",
      "Epoch 8/50\n",
      "394/394 [==============================] - 3s 7ms/step - loss: 0.2329 - mean_squared_logarithmic_error: 0.2328 - val_loss: 0.2461 - val_mean_squared_logarithmic_error: 0.2463\n",
      "Epoch 9/50\n",
      "394/394 [==============================] - 3s 7ms/step - loss: 0.2324 - mean_squared_logarithmic_error: 0.2324 - val_loss: 0.2488 - val_mean_squared_logarithmic_error: 0.2490\n",
      "Epoch 10/50\n",
      "394/394 [==============================] - 3s 7ms/step - loss: 0.2347 - mean_squared_logarithmic_error: 0.2347 - val_loss: 0.2463 - val_mean_squared_logarithmic_error: 0.2465\n",
      "Epoch 11/50\n",
      "394/394 [==============================] - 3s 7ms/step - loss: 0.2332 - mean_squared_logarithmic_error: 0.2332 - val_loss: 0.2492 - val_mean_squared_logarithmic_error: 0.2493\n",
      "Epoch 12/50\n",
      "394/394 [==============================] - 3s 7ms/step - loss: 0.2328 - mean_squared_logarithmic_error: 0.2329 - val_loss: 0.2451 - val_mean_squared_logarithmic_error: 0.2453\n",
      "Epoch 13/50\n",
      "394/394 [==============================] - 3s 7ms/step - loss: 0.2316 - mean_squared_logarithmic_error: 0.2316 - val_loss: 0.2465 - val_mean_squared_logarithmic_error: 0.2467\n",
      "Epoch 14/50\n",
      "394/394 [==============================] - 3s 7ms/step - loss: 0.2306 - mean_squared_logarithmic_error: 0.2306 - val_loss: 0.2461 - val_mean_squared_logarithmic_error: 0.2463\n",
      "Epoch 15/50\n",
      "394/394 [==============================] - 3s 7ms/step - loss: 0.2315 - mean_squared_logarithmic_error: 0.2315 - val_loss: 0.2459 - val_mean_squared_logarithmic_error: 0.2461\n",
      "Epoch 16/50\n",
      "394/394 [==============================] - 3s 7ms/step - loss: 0.2317 - mean_squared_logarithmic_error: 0.2317 - val_loss: 0.2595 - val_mean_squared_logarithmic_error: 0.2598\n",
      "Epoch 17/50\n",
      "394/394 [==============================] - 3s 7ms/step - loss: 0.2324 - mean_squared_logarithmic_error: 0.2324 - val_loss: 0.2453 - val_mean_squared_logarithmic_error: 0.2455\n",
      "Epoch 18/50\n",
      "394/394 [==============================] - 3s 7ms/step - loss: 0.2327 - mean_squared_logarithmic_error: 0.2326 - val_loss: 0.2469 - val_mean_squared_logarithmic_error: 0.2470\n",
      "Epoch 19/50\n",
      "394/394 [==============================] - 3s 7ms/step - loss: 0.2312 - mean_squared_logarithmic_error: 0.2312 - val_loss: 0.2491 - val_mean_squared_logarithmic_error: 0.2494\n",
      "Epoch 20/50\n",
      "394/394 [==============================] - 3s 7ms/step - loss: 0.2309 - mean_squared_logarithmic_error: 0.2310 - val_loss: 0.2455 - val_mean_squared_logarithmic_error: 0.2458\n",
      "Epoch 21/50\n",
      "394/394 [==============================] - 3s 7ms/step - loss: 0.2312 - mean_squared_logarithmic_error: 0.2313 - val_loss: 0.2472 - val_mean_squared_logarithmic_error: 0.2474\n",
      "Epoch 22/50\n",
      "394/394 [==============================] - 3s 7ms/step - loss: 0.2317 - mean_squared_logarithmic_error: 0.2316 - val_loss: 0.2488 - val_mean_squared_logarithmic_error: 0.2490\n",
      "Epoch 23/50\n",
      "394/394 [==============================] - 3s 7ms/step - loss: 0.2302 - mean_squared_logarithmic_error: 0.2302 - val_loss: 0.2483 - val_mean_squared_logarithmic_error: 0.2485\n",
      "Epoch 24/50\n",
      "394/394 [==============================] - 3s 7ms/step - loss: 0.2308 - mean_squared_logarithmic_error: 0.2307 - val_loss: 0.2491 - val_mean_squared_logarithmic_error: 0.2493\n",
      "Epoch 25/50\n",
      "394/394 [==============================] - 3s 7ms/step - loss: 0.2302 - mean_squared_logarithmic_error: 0.2303 - val_loss: 0.2453 - val_mean_squared_logarithmic_error: 0.2455\n",
      "Epoch 26/50\n",
      "394/394 [==============================] - 3s 7ms/step - loss: 0.2310 - mean_squared_logarithmic_error: 0.2310 - val_loss: 0.2599 - val_mean_squared_logarithmic_error: 0.2602\n",
      "Epoch 27/50\n",
      "394/394 [==============================] - 3s 7ms/step - loss: 0.2294 - mean_squared_logarithmic_error: 0.2295 - val_loss: 0.2492 - val_mean_squared_logarithmic_error: 0.2495\n",
      "Epoch 28/50\n",
      "394/394 [==============================] - 3s 8ms/step - loss: 0.2314 - mean_squared_logarithmic_error: 0.2313 - val_loss: 0.2456 - val_mean_squared_logarithmic_error: 0.2458\n",
      "Epoch 29/50\n",
      "394/394 [==============================] - 3s 8ms/step - loss: 0.2306 - mean_squared_logarithmic_error: 0.2307 - val_loss: 0.2490 - val_mean_squared_logarithmic_error: 0.2492\n",
      "Epoch 30/50\n",
      "394/394 [==============================] - 3s 8ms/step - loss: 0.2296 - mean_squared_logarithmic_error: 0.2296 - val_loss: 0.2460 - val_mean_squared_logarithmic_error: 0.2462\n",
      "Epoch 31/50\n",
      "394/394 [==============================] - 3s 7ms/step - loss: 0.2296 - mean_squared_logarithmic_error: 0.2295 - val_loss: 0.2535 - val_mean_squared_logarithmic_error: 0.2537\n",
      "Epoch 32/50\n",
      "394/394 [==============================] - 3s 7ms/step - loss: 0.2303 - mean_squared_logarithmic_error: 0.2303 - val_loss: 0.2479 - val_mean_squared_logarithmic_error: 0.2481\n",
      "Epoch 33/50\n",
      "394/394 [==============================] - 3s 7ms/step - loss: 0.2297 - mean_squared_logarithmic_error: 0.2297 - val_loss: 0.2449 - val_mean_squared_logarithmic_error: 0.2451\n",
      "Epoch 34/50\n",
      "394/394 [==============================] - 3s 7ms/step - loss: 0.2312 - mean_squared_logarithmic_error: 0.2311 - val_loss: 0.2465 - val_mean_squared_logarithmic_error: 0.2467\n",
      "Epoch 35/50\n",
      "394/394 [==============================] - 3s 7ms/step - loss: 0.2321 - mean_squared_logarithmic_error: 0.2321 - val_loss: 0.2492 - val_mean_squared_logarithmic_error: 0.2494\n",
      "Epoch 36/50\n",
      "394/394 [==============================] - 3s 7ms/step - loss: 0.2307 - mean_squared_logarithmic_error: 0.2308 - val_loss: 0.2584 - val_mean_squared_logarithmic_error: 0.2586\n",
      "Epoch 37/50\n",
      "394/394 [==============================] - 3s 7ms/step - loss: 0.2295 - mean_squared_logarithmic_error: 0.2295 - val_loss: 0.2482 - val_mean_squared_logarithmic_error: 0.2484\n",
      "Epoch 38/50\n",
      "394/394 [==============================] - 3s 7ms/step - loss: 0.2291 - mean_squared_logarithmic_error: 0.2290 - val_loss: 0.2478 - val_mean_squared_logarithmic_error: 0.2481\n",
      "Epoch 39/50\n",
      "394/394 [==============================] - 3s 7ms/step - loss: 0.2325 - mean_squared_logarithmic_error: 0.2324 - val_loss: 0.2497 - val_mean_squared_logarithmic_error: 0.2499\n",
      "Epoch 40/50\n",
      "394/394 [==============================] - 3s 7ms/step - loss: 0.2292 - mean_squared_logarithmic_error: 0.2293 - val_loss: 0.2488 - val_mean_squared_logarithmic_error: 0.2491\n",
      "Epoch 41/50\n",
      "394/394 [==============================] - 3s 7ms/step - loss: 0.2295 - mean_squared_logarithmic_error: 0.2295 - val_loss: 0.2471 - val_mean_squared_logarithmic_error: 0.2473\n",
      "Epoch 42/50\n",
      "394/394 [==============================] - 3s 7ms/step - loss: 0.2305 - mean_squared_logarithmic_error: 0.2306 - val_loss: 0.2494 - val_mean_squared_logarithmic_error: 0.2496\n",
      "Epoch 43/50\n",
      "394/394 [==============================] - 3s 7ms/step - loss: 0.2292 - mean_squared_logarithmic_error: 0.2290 - val_loss: 0.2463 - val_mean_squared_logarithmic_error: 0.2464\n",
      "Epoch 44/50\n",
      "394/394 [==============================] - 3s 7ms/step - loss: 0.2292 - mean_squared_logarithmic_error: 0.2291 - val_loss: 0.2473 - val_mean_squared_logarithmic_error: 0.2475\n"
     ]
    },
    {
     "name": "stdout",
     "output_type": "stream",
     "text": [
      "Epoch 45/50\n",
      "394/394 [==============================] - 3s 7ms/step - loss: 0.2287 - mean_squared_logarithmic_error: 0.2287 - val_loss: 0.2496 - val_mean_squared_logarithmic_error: 0.2498\n",
      "Epoch 46/50\n",
      "394/394 [==============================] - 3s 7ms/step - loss: 0.2304 - mean_squared_logarithmic_error: 0.2304 - val_loss: 0.2469 - val_mean_squared_logarithmic_error: 0.2471\n",
      "Epoch 47/50\n",
      "394/394 [==============================] - 3s 7ms/step - loss: 0.2287 - mean_squared_logarithmic_error: 0.2286 - val_loss: 0.2454 - val_mean_squared_logarithmic_error: 0.2456\n",
      "Epoch 48/50\n",
      "394/394 [==============================] - 3s 7ms/step - loss: 0.2278 - mean_squared_logarithmic_error: 0.2278 - val_loss: 0.2475 - val_mean_squared_logarithmic_error: 0.2477\n",
      "Epoch 49/50\n",
      "394/394 [==============================] - 3s 7ms/step - loss: 0.2284 - mean_squared_logarithmic_error: 0.2284 - val_loss: 0.2457 - val_mean_squared_logarithmic_error: 0.2459\n",
      "Epoch 50/50\n",
      "394/394 [==============================] - 3s 7ms/step - loss: 0.2278 - mean_squared_logarithmic_error: 0.2278 - val_loss: 0.2471 - val_mean_squared_logarithmic_error: 0.2473\n"
     ]
    }
   ],
   "source": [
    "import tensorflow as tf\n",
    "from tensorflow.keras import Model\n",
    "from tensorflow.keras import Sequential\n",
    "from tensorflow.keras.optimizers import Adam\n",
    "from tensorflow.keras.layers import Dense, Dropout\n",
    "from sklearn.model_selection import train_test_split\n",
    "from tensorflow.keras.losses import MeanSquaredLogarithmicError\n",
    "\n",
    "hidden_units1 = 300\n",
    "hidden_units2 = 600\n",
    "hidden_units3 = 400\n",
    "learning_rate = 0.01\n",
    "def build_model_using_sequential():\n",
    "    model = Sequential([\n",
    "    Dense(hidden_units1, kernel_initializer='normal', activation='relu'),\n",
    "    Dropout(0.2),\n",
    "    Dense(hidden_units2, kernel_initializer='normal', activation='relu'),\n",
    "    Dropout(0.2),\n",
    "    Dense(hidden_units3, kernel_initializer='normal', activation='relu'),\n",
    "    Dense(1, kernel_initializer='normal', activation='linear')\n",
    "    ])\n",
    "    return model\n",
    "# build the model\n",
    "model = build_model_using_sequential()\n",
    "# loss function\n",
    "msle = MeanSquaredLogarithmicError()\n",
    "model.compile(\n",
    "    loss=msle, \n",
    "    optimizer=Adam(learning_rate=learning_rate), \n",
    "    metrics=[msle]\n",
    ")\n",
    "# train the model\n",
    "history = model.fit(\n",
    "    train_X, \n",
    "    train_y, \n",
    "    epochs=50,\n",
    "    batch_size=64,\n",
    "    validation_split=0.2\n",
    ")"
   ]
  },
  {
   "cell_type": "code",
   "execution_count": 91,
   "id": "d1d4a590",
   "metadata": {},
   "outputs": [
    {
     "name": "stdout",
     "output_type": "stream",
     "text": [
      " 90/110 [=======================>......] - ETA: 0s"
     ]
    },
    {
     "name": "stderr",
     "output_type": "stream",
     "text": [
      "2023-01-24 18:42:44.416241: I tensorflow/core/grappler/optimizers/custom_graph_optimizer_registry.cc:113] Plugin optimizer for device_type GPU is enabled.\n"
     ]
    },
    {
     "name": "stdout",
     "output_type": "stream",
     "text": [
      "110/110 [==============================] - 0s 3ms/step\n"
     ]
    }
   ],
   "source": [
    "predictions_ann=model.predict(test_X)"
   ]
  },
  {
   "cell_type": "code",
   "execution_count": 92,
   "id": "75d6bdd2",
   "metadata": {},
   "outputs": [],
   "source": [
    "rmse_ann=np.sqrt(mean_squared_error(predictions_ann,test_y))"
   ]
  },
  {
   "cell_type": "code",
   "execution_count": 93,
   "id": "c04f0765",
   "metadata": {},
   "outputs": [
    {
     "data": {
      "text/plain": [
       "18.900378364138056"
      ]
     },
     "execution_count": 93,
     "metadata": {},
     "output_type": "execute_result"
    }
   ],
   "source": [
    "rmse_ann"
   ]
  },
  {
   "cell_type": "markdown",
   "id": "a78aaf6b",
   "metadata": {},
   "source": [
    "### Final Prediction"
   ]
  },
  {
   "cell_type": "code",
   "execution_count": 94,
   "id": "55fe9bfb",
   "metadata": {},
   "outputs": [],
   "source": [
    "final_predictions=gbr.predict(test)"
   ]
  },
  {
   "cell_type": "code",
   "execution_count": 95,
   "id": "d64c5a07",
   "metadata": {},
   "outputs": [],
   "source": [
    "final_predictions"
   ]
  },
  {
   "cell_type": "code",
   "execution_count": 96,
   "id": "b5de25aa",
   "metadata": {},
   "outputs": [],
   "source": [
    "submission = pd.DataFrame({\"calculated_total_amount\":final_predictions})"
   ]
  },
  {
   "cell_type": "code",
   "execution_count": 97,
   "id": "adb34e9d",
   "metadata": {},
   "outputs": [],
   "source": [
    "submission.shape"
   ]
  },
  {
   "cell_type": "code",
   "execution_count": 98,
   "id": "5904026c",
   "metadata": {},
   "outputs": [],
   "source": [
    "submission.to_csv('my_submission_file.csv', index=False)"
   ]
  }
 ],
 "metadata": {
  "kernelspec": {
   "display_name": "Python 3 (ipykernel)",
   "language": "python",
   "name": "python3"
  },
  "language_info": {
   "codemirror_mode": {
    "name": "ipython",
    "version": 3
   },
   "file_extension": ".py",
   "mimetype": "text/x-python",
   "name": "python",
   "nbconvert_exporter": "python",
   "pygments_lexer": "ipython3",
   "version": "3.10.5"
  }
 },
 "nbformat": 4,
 "nbformat_minor": 5
}
